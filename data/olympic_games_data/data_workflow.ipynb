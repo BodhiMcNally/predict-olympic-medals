{
 "cells":[
  {
   "cell_type":"code",
   "source":[
    "import fiona\n",
    "import pandas as pd\n",
    "import geopandas as gpd\n",
    "import numpy as np\n",
    "from shapely import wkt, MultiPolygon, Point\n",
    "from geoalchemy2 import Geometry, WKTElement\n",
    "import requests\n",
    "from io import BytesIO\n",
    "from os import path\n",
    "from sqlalchemy import create_engine, text\n",
    "import psycopg2\n",
    "import psycopg2.extras\n",
    "import json\n",
    "from sklearn.decomposition import PCA\n",
    "from scipy.stats import zscore, ttest_ind, spearmanr\n",
    "import matplotlib.pyplot as plt\n",
    "import folium\n",
    "from folium.features import GeoJsonTooltip"
   ],
   "execution_count":null,
   "outputs":[
    
   ],
   "metadata":{
    "datalore":{
     "node_id":"p1HF5jQUsXYsrC8qWqud8g",
     "type":"CODE",
     "hide_input_from_viewers":false,
     "hide_output_from_viewers":false,
     "report_properties":{
      "rowId":"edqLRfeRJA75f8OpZMHdu1",
      "relativeY":0
     }
    }
   }
  },
  {
   "cell_type":"code",
   "source":[
    "credentials = \"..\/references\/credentials.json\"\n",
    "\n",
    "def pgconnect(credential_filepath, db_schema=\"public\"):\n",
    "    with open(credential_filepath) as f:\n",
    "        db_conn_dict = json.load(f)\n",
    "        host       = db_conn_dict['host']\n",
    "        db_user    = db_conn_dict['user']\n",
    "        db_pw      = db_conn_dict['password']\n",
    "        default_db = db_conn_dict['user']\n",
    "        try:\n",
    "            db = create_engine('postgresql+psycopg2:\/\/'+db_user+':'+db_pw+'@'+host+'\/'+default_db, echo=False)\n",
    "            conn = db.connect()\n",
    "            print('Connected successfully.')\n",
    "        except Exception as e:\n",
    "            print(\"Unable to connect to the database.\")\n",
    "            print(e)\n",
    "            db, conn = None, None\n",
    "        return db, conn\n",
    "\n",
    "def query(conn, sqlcmd, args=None, df=True):\n",
    "    result = pd.DataFrame() if df else None\n",
    "    try:\n",
    "        if df:\n",
    "            result = pd.read_sql_query(sqlcmd, conn, params=args)\n",
    "        else:\n",
    "            result = conn.execute(sqlcmd, args).fetchall()\n",
    "            result = result[0] if len(result) == 1 else result\n",
    "    except Exception as e:\n",
    "        print(\"Error encountered: \", e, sep='\\n')\n",
    "    return result"
   ],
   "execution_count":null,
   "outputs":[
    
   ],
   "metadata":{
    "datalore":{
     "node_id":"Oo3H0Z0dn3glsImm4R7DwD",
     "type":"CODE",
     "hide_input_from_viewers":false,
     "hide_output_from_viewers":false,
     "report_properties":{
      "rowId":"UiWCw0kmq8GDw9wh4kmQIY",
      "relativeY":0
     }
    }
   }
  },
  {
   "cell_type":"code",
   "source":[
    "srid = 4326\n",
    "type_dict = {MultiPolygon: 'MultiPolygon', Point: 'Point'}\n",
    "\n",
    "def create_wkt_element(geom, Type, srid=4326):\n",
    "    type_str = type_dict[Type]\n",
    "    if geom.geom_type != type_str:\n",
    "        geom = Type([geom])\n",
    "    return WKTElement(geom.wkt, srid)"
   ],
   "execution_count":null,
   "outputs":[
    
   ],
   "metadata":{
    "datalore":{
     "node_id":"8aFFx13rchrmjZSrmyLqb6",
     "type":"CODE",
     "hide_input_from_viewers":false,
     "hide_output_from_viewers":false,
     "report_properties":{
      "rowId":"2CLqreU2IdjrAdTYihvRSO",
      "relativeY":0
     }
    }
   }
  },
  {
   "cell_type":"code",
   "source":[
    "def scrape_childcare_data(url):\n",
    "    response = requests.get(url)\n",
    "\n",
    "    if response.status_code == 200:\n",
    "        file = BytesIO(response.content)\n",
    "        df = pd.read_excel(file)\n",
    "        # print(df.head())\n",
    "\n",
    "        # Save the DataFrame as a CSV file\n",
    "        df.to_csv(\"..\/data\/external\/childcare_facilities.csv\", index=False)\n",
    "        print('Success')\n",
    "    else:\n",
    "        raise FileNotFoundError(f\"Failed to fetch the data from the URL. Status code: {response.status_code}\")\n",
    "\n",
    "if not path.exists(\"..\/data\/external\/childcare_facilities.csv\"):\n",
    "    scrape_childcare_data(\"https:\/\/shorturl.at\/jkQT7\")\n",
    "else:\n",
    "    print(f'childcare_facilities.csv already exists')"
   ],
   "execution_count":null,
   "outputs":[
    {
     "name":"stdout",
     "text":[
      "childcare_facilities.csv already exists\n"
     ],
     "output_type":"stream"
    }
   ],
   "metadata":{
    "datalore":{
     "node_id":"bM4Bf0xfiKszi2B4wVVlq7",
     "type":"CODE",
     "hide_input_from_viewers":false,
     "hide_output_from_viewers":false,
     "report_properties":{
      "rowId":"AGE6IvaAJANn8Uxdom13X4",
      "relativeY":0
     }
    }
   }
  },
  {
   "cell_type":"code",
   "source":[
    "with fiona.open('..\/data\/raw\/SA2_2021_AUST_SHP_GDA2020') as fiona_file:\n",
    "    raw_sa_gdf = gpd.GeoDataFrame.from_features([feature for feature in fiona_file])\n",
    "    \n",
    "with fiona.open('..\/data\/raw\/catchments') as fiona_file:\n",
    "    raw_catchments_gdf = gpd.GeoDataFrame.from_features([feature for feature in fiona_file])\n",
    "    \n",
    "raw_business_df = pd.read_csv('..\/data\/raw\/Businesses.csv', )\n",
    "raw_income_df = pd.read_csv('..\/data\/raw\/Income.csv')\n",
    "raw_polling_df = pd.read_csv('..\/data\/raw\/PollingPlaces2019.csv')\n",
    "raw_population_df = pd.read_csv('..\/data\/raw\/Population.csv')\n",
    "raw_stops_df = pd.read_csv('..\/data\/raw\/Stops.txt')\n",
    "raw_childcare_df = pd.read_csv('..\/data\/external\/childcare_facilities.csv')\n",
    "raw_poi_gdf = gpd.read_file('..\/data\/external\/Points_Of_Interest.json')"
   ],
   "execution_count":null,
   "outputs":[
    
   ],
   "metadata":{
    "datalore":{
     "node_id":"jxwd63NPRIQYgVF469BWax",
     "type":"CODE",
     "hide_input_from_viewers":false,
     "hide_output_from_viewers":false,
     "report_properties":{
      "rowId":"yaPPo8UEOWvOXSMN9bUueo",
      "relativeY":0
     }
    }
   }
  },
  {
   "cell_type":"code",
   "source":[
    "sa2_geometry_gdf = raw_sa_gdf.loc[raw_sa_gdf['GCC_NAME21']=='Greater Sydney',['SA2_CODE21', 'geometry']].rename(columns={'SA2_CODE21':'sa2_code'})\n",
    "sa2_info_df =  pd.DataFrame(raw_sa_gdf.loc[raw_sa_gdf['GCC_NAME21']=='Greater Sydney',['SA2_CODE21', 'SA2_NAME21', 'AREASQKM21']].rename(columns={'SA2_CODE21':'sa2_code', 'SA2_NAME21':'sa2_name', 'AREASQKM21':'area'}))\n",
    "\n",
    "sa2_code_list = list(sa2_info_df.sa2_code)\n",
    "\n",
    "catchments_gdf = raw_catchments_gdf.rename(columns={'USE_ID':'school_id'}).loc[:, ['school_id', 'geometry']]\n",
    "\n",
    "business_counts_df = raw_business_df.loc[raw_business_df['sa2_code'].astype(str).isin(sa2_code_list), ['industry_code', 'sa2_code', 'total_businesses']]\n",
    "labels, levels = pd.factorize(business_counts_df['industry_code'])\n",
    "business_counts_df['industry_code'] = labels\n",
    "business_counts_df['key'] = business_counts_df['sa2_code'].astype(str) + '_' + business_counts_df['industry_code'].astype(str)\n",
    "\n",
    "industry_names_df = pd.DataFrame(levels, columns=['industry_code'])\n",
    "industry_names_df = industry_names_df.merge(raw_business_df.loc[:, ['industry_code', 'industry_name']].drop_duplicates())\n",
    "industry_names_df['industry_code'] = industry_names_df.index\n",
    "\n",
    "income_df = raw_income_df.loc[raw_income_df['sa2_code'].astype(str).isin(sa2_code_list)].drop(columns=['sa2_name'])\n",
    "income_df = income_df.replace({'np': np.nan}).dropna()\n",
    "\n",
    "polling_gdf = raw_polling_df.loc[~(raw_polling_df['longitude'].isna()) & ~(raw_polling_df['latitude'].isna()), ['polling_place_id', 'longitude', 'latitude']].reset_index(drop=True)\n",
    "# polling_gdf['geometry'] = gpd.GeoSeries(gpd.points_from_xy(pd.to_numeric(polling_gdf.longitude), pd.to_numeric(polling_gdf.latitude)))\n",
    "# polling_gdf.drop(columns=['latitude','longitude'], inplace=True)\n",
    "polling_gdf = gpd.GeoDataFrame(polling_gdf, geometry=gpd.points_from_xy(pd.to_numeric(polling_gdf.longitude), pd.to_numeric(polling_gdf.latitude)))\n",
    "polling_gdf.drop(columns=['latitude','longitude'], inplace=True)\n",
    "\n",
    "population_df = raw_population_df.loc[:, ['sa2_code', 'total_people']].rename(columns={'total_people': 'total_population'})\n",
    "population_df['young_people_population'] = raw_population_df['0-4_people'] + raw_population_df['5-9_people'] + raw_population_df['10-14_people'] + raw_population_df['15-19_people']\n",
    "\n",
    "\n",
    "stops_gdf = raw_stops_df.loc[raw_stops_df['location_type'].isna(), ['stop_id', 'stop_lon', 'stop_lat']].reset_index(drop=True)\n",
    "stops_gdf['geometry'] = gpd.GeoSeries(gpd.points_from_xy(stops_gdf['stop_lon'].astype(float), stops_gdf['stop_lat'].astype(float)))\n",
    "stops_gdf = gpd.GeoDataFrame(stops_gdf, geometry='geometry').drop(columns=['stop_lat', 'stop_lon'])\n",
    "\n",
    "childcare_geometry = gpd.points_from_xy(raw_childcare_df['LONGITUDE'], raw_childcare_df['LATITUDE'])\n",
    "childcare_gdf = gpd.GeoDataFrame(raw_childcare_df.ID, geometry=childcare_geometry).rename(columns={'ID': 'childcare_id'})\n",
    "\n",
    "libraries_gdf = raw_poi_gdf.loc[raw_poi_gdf['poitype']=='Library', ['topoid','geometry']]\n",
    "libraries_gdf.rename(columns={'topoid': 'library_id'}, inplace=True)"
   ],
   "execution_count":null,
   "outputs":[
    
   ],
   "metadata":{
    "datalore":{
     "node_id":"VxvHD6KlTTq6R1DfsexSSW",
     "type":"CODE",
     "hide_input_from_viewers":false,
     "hide_output_from_viewers":false,
     "report_properties":{
      "rowId":"2zmhifTLDA0Gq9afl21tfd",
      "relativeY":0
     }
    }
   }
  },
  {
   "cell_type":"code",
   "source":[
    "sa2_geometry_gdf_for_sql = sa2_geometry_gdf.copy()\n",
    "catchments_gdf_for_sql = catchments_gdf.copy()\n",
    "polling_gdf_for_sql = polling_gdf.copy()\n",
    "stops_gdf_for_sql = stops_gdf.copy()\n",
    "childcare_gdf_for_sql = childcare_gdf.drop_duplicates(subset=['childcare_id']).copy()\n",
    "libraries_gdf_for_sql = libraries_gdf.copy()\n",
    "\n",
    "gdfs_to_convert = [\n",
    "    (sa2_geometry_gdf_for_sql, MultiPolygon), \n",
    "    (catchments_gdf_for_sql, MultiPolygon),\n",
    "    (polling_gdf_for_sql, Point),\n",
    "    (stops_gdf_for_sql, Point),\n",
    "    (childcare_gdf_for_sql, Point),\n",
    "    (libraries_gdf_for_sql, Point)\n",
    "]\n",
    "\n",
    "for gdf, type in gdfs_to_convert:\n",
    "    gdf['geom'] = gdf['geometry'].apply(lambda x: create_wkt_element(x, type, srid=srid))"
   ],
   "execution_count":null,
   "outputs":[
    
   ],
   "metadata":{
    "datalore":{
     "node_id":"vLW8AEcu89OL4rcHuJ7OUD",
     "type":"CODE",
     "hide_input_from_viewers":false,
     "hide_output_from_viewers":false,
     "report_properties":{
      "rowId":"m1mP9bw9ybtPUB9gVxjlVD",
      "relativeY":0
     }
    }
   }
  },
  {
   "cell_type":"code",
   "source":[
    "# sa2_geometry_gdf.to_file('..\/data\/processed\/sa2.geojson', driver='GeoJSON')\n",
    "# catchments_gdf.to_file('..\/data\/processed\/catchments.geojson', driver='GeoJSON')\n",
    "# polling_gdf.to_file('..\/data\/processed\/polling.geojson', driver='GeoJSON')\n",
    "# stops_gdf.to_file('..\/data\/processed\/stops.geojson', driver='GeoJSON')\n",
    "# childcare_gdf.to_file('..\/data\/processed\/childcare_facilities.geojson', driver='GeoJSON')\n",
    "# libraries_gdf.to_file('..\/data\/processed\/libraries.geojson', driver='GeoJSON')"
   ],
   "execution_count":null,
   "outputs":[
    
   ],
   "metadata":{
    "datalore":{
     "node_id":"XkccfwTofOxOOFTZqhhzyO",
     "type":"CODE",
     "hide_input_from_viewers":false,
     "hide_output_from_viewers":false,
     "report_properties":{
      "rowId":"nbZZkpVbwp26xsFn23xl6a",
      "relativeY":0
     }
    }
   }
  },
  {
   "cell_type":"code",
   "source":[
    "try:\n",
    "    conn.close()\n",
    "    db.dispose()\n",
    "except Exception as e:\n",
    "    print('No connection to close.')\n",
    "\n",
    "db, conn = pgconnect(credentials)\n",
    "conn.execute(text(\"set search_path to public\"))"
   ],
   "execution_count":null,
   "outputs":[
    {
     "name":"stdout",
     "text":[
      "Connected successfully.\n",
      "\n"
     ],
     "output_type":"stream"
    },
    {
     "name":"stderr",
     "text":[
      "\n"
     ],
     "output_type":"stream"
    },
    {
     "data":{
      "text\/plain":[
       "<sqlalchemy.engine.cursor.CursorResult at 0x28c0d4d70>"
      ]
     },
     "metadata":{
      
     },
     "output_type":"display_data"
    }
   ],
   "metadata":{
    "datalore":{
     "node_id":"lDbCQyXOUInvSrNVfwYxfO",
     "type":"CODE",
     "hide_input_from_viewers":false,
     "hide_output_from_viewers":false,
     "report_properties":{
      "rowId":"KmPyVPMaaZdbFSqlRu23UO",
      "relativeY":0
     }
    }
   }
  },
  {
   "cell_type":"code",
   "source":[
    "with open('..\/data\/sql\/schema.sql') as file:\n",
    "    sql_scheme_string = text(file.read())\n",
    "\n",
    "conn.execute(sql_scheme_string)"
   ],
   "execution_count":null,
   "outputs":[
    {
     "data":{
      "text\/plain":[
       "<sqlalchemy.engine.cursor.CursorResult at 0x28c0d6cf0>"
      ]
     },
     "metadata":{
      
     },
     "output_type":"display_data"
    }
   ],
   "metadata":{
    "datalore":{
     "node_id":"n5Ct47G6sizvHD3ecN5Oxr",
     "type":"CODE",
     "hide_input_from_viewers":false,
     "hide_output_from_viewers":false,
     "report_properties":{
      "rowId":"wizZPmdXxugQENZJJ9ePOE",
      "relativeY":0
     }
    }
   }
  },
  {
   "cell_type":"code",
   "source":[
    "# conn.rollback()\n",
    "gdf_to_upload = [\n",
    "    (sa2_geometry_gdf_for_sql, 'MULTIPOLYGON', 'sa2_geometry'), \n",
    "    (catchments_gdf_for_sql, 'MULTIPOLYGON', 'catchments'),\n",
    "    (polling_gdf_for_sql, 'POINT', 'polling_places'),\n",
    "    (stops_gdf_for_sql, 'POINT', 'stops'),\n",
    "    (childcare_gdf_for_sql, 'POINT', 'childcare_facilities'),\n",
    "    (libraries_gdf_for_sql, 'POINT', 'libraries')\n",
    "]\n",
    "\n",
    "for gdf, type, table in gdf_to_upload:\n",
    "    gdf[[col for col in gdf.columns if col != 'geometry']].to_sql(table, conn, if_exists='append', index=False, dtype={'geom': Geometry(type, srid)})\n",
    "    \n",
    "\n",
    "dfs_to_upload = [\n",
    "    (sa2_info_df, 'sa2_info'),\n",
    "    (industry_names_df, 'industry_names'),\n",
    "    (business_counts_df, 'business_counts'),\n",
    "    (income_df, 'incomes'),\n",
    "    (population_df, 'populations')\n",
    "]\n",
    "\n",
    "for df, table in dfs_to_upload:\n",
    "    df.to_sql(table, conn, if_exists='append', index=False)"
   ],
   "execution_count":null,
   "outputs":[
    
   ],
   "metadata":{
    "datalore":{
     "node_id":"RY59mecMVkASe8ehEPO8lA",
     "type":"CODE",
     "hide_input_from_viewers":false,
     "hide_output_from_viewers":false,
     "report_properties":{
      "rowId":"zaTf6nVlExCPdH7nxLqj8v",
      "relativeY":0
     }
    }
   }
  },
  {
   "cell_type":"code",
   "source":[
    "with open('..\/data\/sql\/indexes.sql') as file:\n",
    "    sql_index_string = text(file.read())\n",
    "\n",
    "conn.execute(sql_index_string)"
   ],
   "execution_count":null,
   "outputs":[
    {
     "data":{
      "text\/plain":[
       "<sqlalchemy.engine.cursor.CursorResult at 0x29d3767b0>"
      ]
     },
     "metadata":{
      
     },
     "output_type":"display_data"
    }
   ],
   "metadata":{
    "datalore":{
     "node_id":"r6dJa20rFWjARCpU2AwAmj",
     "type":"CODE",
     "hide_input_from_viewers":false,
     "hide_output_from_viewers":false,
     "report_properties":{
      "rowId":"Dzg5MruHExVvwE1TnSqAPj",
      "relativeY":0
     }
    }
   }
  },
  {
   "cell_type":"code",
   "source":[
    "conn.execute(text('set search_path to public'))\n",
    "with open('..\/data\/sql\/views.sql', 'r') as file:\n",
    "    view_sql_string = text(file.read())\n",
    "\n",
    "conn.execute(view_sql_string)"
   ],
   "execution_count":null,
   "outputs":[
    {
     "data":{
      "text\/plain":[
       "<sqlalchemy.engine.cursor.CursorResult at 0x2aa2abaf0>"
      ]
     },
     "metadata":{
      
     },
     "output_type":"display_data"
    }
   ],
   "metadata":{
    "datalore":{
     "node_id":"w8gSvC99mwXBU24TLsx9pa",
     "type":"CODE",
     "hide_input_from_viewers":false,
     "hide_output_from_viewers":false,
     "report_properties":{
      "rowId":"BLPjNshHo38C81yANZymyF",
      "relativeY":0
     }
    }
   }
  },
  {
   "cell_type":"code",
   "source":[
    "df_for_pca = query(conn, 'select * from metrics')\n",
    "\n",
    "df_for_pca = df_for_pca.drop(columns=['sa2_code', 'sa2_name', 'geom', 'area', 'young_people_population', 'total_count']).apply(zscore)\n",
    "\n",
    "cols = list(df_for_pca.columns)\n",
    "\n",
    "df_for_pca = df_for_pca.to_numpy()\n",
    "\n",
    "pca = PCA(n_components=1)\n",
    "\n",
    "pca.fit(df_for_pca)\n",
    "weights = pca.components_.tolist()\n",
    "\n",
    "weight_dic = {}\n",
    "for col_name, weight in zip(cols, weights[0]):\n",
    "        print(f'{col_name} weight: {weight}')\n",
    "        weight_dic[f'{col_name}_weight'] = str(weight)\n",
    "        "
   ],
   "execution_count":null,
   "outputs":[
    {
     "name":"stdout",
     "text":[
      "polls weight: 0.36725888233772297\n",
      "stops weight: 0.3542459899107671\n",
      "schools weight: 0.31043876860537345\n",
      "retail weight: 0.45075328648827917\n",
      "health weight: 0.4382001185821598\n",
      "libraries weight: 0.3236294063075545\n",
      "childcare_facilities weight: 0.37858235707779997\n"
     ],
     "output_type":"stream"
    }
   ],
   "metadata":{
    "datalore":{
     "node_id":"yx8eQoQmzu40LUpk6KB59a",
     "type":"CODE",
     "hide_input_from_viewers":false,
     "hide_output_from_viewers":false,
     "report_properties":{
      "rowId":"3Qpb7rUt8RbrXZ7CyHRl99",
      "relativeY":0
     }
    }
   }
  },
  {
   "cell_type":"code",
   "source":[
    "conn.execute(text('set search_path to public'))\n",
    "with open('..\/data\/sql\/additional_zscore.sql', 'r') as file:\n",
    "    scores_sql_string = str(file.read())\n",
    "\n",
    "scores_with_weight_sql_string = scores_sql_string\n",
    "for weight_name, weight in weight_dic.items():\n",
    "    scores_with_weight_sql_string = scores_with_weight_sql_string.replace(weight_name, weight)\n",
    "\n",
    "scores_with_weight_sql_string = text(scores_with_weight_sql_string)\n",
    "\n",
    "df = query(conn, scores_with_weight_sql_string)\n",
    "\n",
    "sa2_geometry_gdf['sa2_code'] = sa2_geometry_gdf['sa2_code'].astype('int64')\n",
    "\n",
    "df.merge(sa2_geometry_gdf, how='left', on='sa2_code')"
   ],
   "execution_count":null,
   "outputs":[
    {
     "data":{
      "text\/html":[
       "<div>\n",
       "<style scoped>\n",
       "    .dataframe tbody tr th:only-of-type {\n",
       "        vertical-align: middle;\n",
       "    }\n",
       "\n",
       "    .dataframe tbody tr th {\n",
       "        vertical-align: top;\n",
       "    }\n",
       "\n",
       "    .dataframe thead th {\n",
       "        text-align: right;\n",
       "    }\n",
       "<\/style>\n",
       "<table border=\"1\" class=\"dataframe\">\n",
       "  <thead>\n",
       "    <tr style=\"text-align: right;\">\n",
       "      <th><\/th>\n",
       "      <th>sa2_code<\/th>\n",
       "      <th>sa2_name<\/th>\n",
       "      <th>score<\/th>\n",
       "      <th>geometry<\/th>\n",
       "    <\/tr>\n",
       "  <\/thead>\n",
       "  <tbody>\n",
       "    <tr>\n",
       "      <th>0<\/th>\n",
       "      <td>117031644<\/td>\n",
       "      <td>Sydney (North) - Millers Point<\/td>\n",
       "      <td>4.581597<\/td>\n",
       "      <td>MULTIPOLYGON (((151.22538 -33.85525, 151.22525...<\/td>\n",
       "    <\/tr>\n",
       "    <tr>\n",
       "      <th>1<\/th>\n",
       "      <td>117031646<\/td>\n",
       "      <td>Ultimo<\/td>\n",
       "      <td>4.011853<\/td>\n",
       "      <td>POLYGON ((151.19469 -33.88090, 151.19461 -33.8...<\/td>\n",
       "    <\/tr>\n",
       "    <tr>\n",
       "      <th>2<\/th>\n",
       "      <td>117031336<\/td>\n",
       "      <td>Surry Hills<\/td>\n",
       "      <td>3.919028<\/td>\n",
       "      <td>POLYGON ((151.20831 -33.88343, 151.20842 -33.8...<\/td>\n",
       "    <\/tr>\n",
       "    <tr>\n",
       "      <th>3<\/th>\n",
       "      <td>117031645<\/td>\n",
       "      <td>Sydney (South) - Haymarket<\/td>\n",
       "      <td>3.776552<\/td>\n",
       "      <td>POLYGON ((151.19852 -33.87579, 151.19847 -33.8...<\/td>\n",
       "    <\/tr>\n",
       "    <tr>\n",
       "      <th>4<\/th>\n",
       "      <td>119031664<\/td>\n",
       "      <td>Hurstville - Central<\/td>\n",
       "      <td>3.606635<\/td>\n",
       "      <td>POLYGON ((151.10102 -33.96455, 151.10154 -33.9...<\/td>\n",
       "    <\/tr>\n",
       "    <tr>\n",
       "      <th>...<\/th>\n",
       "      <td>...<\/td>\n",
       "      <td>...<\/td>\n",
       "      <td>...<\/td>\n",
       "      <td>...<\/td>\n",
       "    <\/tr>\n",
       "    <tr>\n",
       "      <th>354<\/th>\n",
       "      <td>123031448<\/td>\n",
       "      <td>The Oaks - Oakdale<\/td>\n",
       "      <td>-1.190867<\/td>\n",
       "      <td>POLYGON ((150.42302 -34.04532, 150.42299 -34.0...<\/td>\n",
       "    <\/tr>\n",
       "    <tr>\n",
       "      <th>355<\/th>\n",
       "      <td>102021049<\/td>\n",
       "      <td>Jilliby - Yarramalong<\/td>\n",
       "      <td>-1.191148<\/td>\n",
       "      <td>POLYGON ((151.22381 -33.18592, 151.22479 -33.1...<\/td>\n",
       "    <\/tr>\n",
       "    <tr>\n",
       "      <th>356<\/th>\n",
       "      <td>123031446<\/td>\n",
       "      <td>Douglas Park - Appin<\/td>\n",
       "      <td>-1.191658<\/td>\n",
       "      <td>POLYGON ((150.63446 -34.19147, 150.63454 -34.1...<\/td>\n",
       "    <\/tr>\n",
       "    <tr>\n",
       "      <th>357<\/th>\n",
       "      <td>102011030<\/td>\n",
       "      <td>Calga - Kulnura<\/td>\n",
       "      <td>-1.197620<\/td>\n",
       "      <td>MULTIPOLYGON (((151.20449 -33.53280, 151.20448...<\/td>\n",
       "    <\/tr>\n",
       "    <tr>\n",
       "      <th>358<\/th>\n",
       "      <td>115031299<\/td>\n",
       "      <td>Bilpin - Colo - St Albans<\/td>\n",
       "      <td>-1.205124<\/td>\n",
       "      <td>POLYGON ((150.97528 -33.36518, 150.97501 -33.3...<\/td>\n",
       "    <\/tr>\n",
       "  <\/tbody>\n",
       "<\/table>\n",
       "<p>359 rows × 4 columns<\/p>\n",
       "<\/div>"
      ]
     },
     "metadata":{
      
     },
     "output_type":"display_data"
    },
    {
     "data":{
      "text\/plain":[
       "      sa2_code                        sa2_name     score   \n",
       "0    117031644  Sydney (North) - Millers Point  4.581597  \\\n",
       "1    117031646                          Ultimo  4.011853   \n",
       "2    117031336                     Surry Hills  3.919028   \n",
       "3    117031645      Sydney (South) - Haymarket  3.776552   \n",
       "4    119031664            Hurstville - Central  3.606635   \n",
       "..         ...                             ...       ...   \n",
       "354  123031448              The Oaks - Oakdale -1.190867   \n",
       "355  102021049           Jilliby - Yarramalong -1.191148   \n",
       "356  123031446            Douglas Park - Appin -1.191658   \n",
       "357  102011030                 Calga - Kulnura -1.197620   \n",
       "358  115031299       Bilpin - Colo - St Albans -1.205124   \n",
       "\n",
       "                                              geometry  \n",
       "0    MULTIPOLYGON (((151.22538 -33.85525, 151.22525...  \n",
       "1    POLYGON ((151.19469 -33.88090, 151.19461 -33.8...  \n",
       "2    POLYGON ((151.20831 -33.88343, 151.20842 -33.8...  \n",
       "3    POLYGON ((151.19852 -33.87579, 151.19847 -33.8...  \n",
       "4    POLYGON ((151.10102 -33.96455, 151.10154 -33.9...  \n",
       "..                                                 ...  \n",
       "354  POLYGON ((150.42302 -34.04532, 150.42299 -34.0...  \n",
       "355  POLYGON ((151.22381 -33.18592, 151.22479 -33.1...  \n",
       "356  POLYGON ((150.63446 -34.19147, 150.63454 -34.1...  \n",
       "357  MULTIPOLYGON (((151.20449 -33.53280, 151.20448...  \n",
       "358  POLYGON ((150.97528 -33.36518, 150.97501 -33.3...  \n",
       "\n",
       "[359 rows x 4 columns]"
      ]
     },
     "metadata":{
      
     },
     "output_type":"display_data"
    }
   ],
   "metadata":{
    "datalore":{
     "node_id":"3mJSoMIcI6vPMKuBQGwBy3",
     "type":"CODE",
     "hide_input_from_viewers":false,
     "hide_output_from_viewers":false,
     "report_properties":{
      "rowId":"iCO3dU0aCe1exoedHU1Xlw",
      "relativeY":0
     }
    }
   }
  },
  {
   "cell_type":"code",
   "source":[
    "conn.execute(text('set search_path to public'))\n",
    "with open('..\/data\/sql\/rank_score.sql', 'r') as file:\n",
    "    rank_scores_sql_string = text(file.read())\n",
    "\n",
    "query(conn, rank_scores_sql_string)"
   ],
   "execution_count":null,
   "outputs":[
    {
     "data":{
      "text\/html":[
       "<div>\n",
       "<style scoped>\n",
       "    .dataframe tbody tr th:only-of-type {\n",
       "        vertical-align: middle;\n",
       "    }\n",
       "\n",
       "    .dataframe tbody tr th {\n",
       "        vertical-align: top;\n",
       "    }\n",
       "\n",
       "    .dataframe thead th {\n",
       "        text-align: right;\n",
       "    }\n",
       "<\/style>\n",
       "<table border=\"1\" class=\"dataframe\">\n",
       "  <thead>\n",
       "    <tr style=\"text-align: right;\">\n",
       "      <th><\/th>\n",
       "      <th>sa2_code<\/th>\n",
       "      <th>sa2_name<\/th>\n",
       "      <th>score_adv<\/th>\n",
       "    <\/tr>\n",
       "  <\/thead>\n",
       "  <tbody>\n",
       "    <tr>\n",
       "      <th>0<\/th>\n",
       "      <td>117031644<\/td>\n",
       "      <td>Sydney (North) - Millers Point<\/td>\n",
       "      <td>38<\/td>\n",
       "    <\/tr>\n",
       "    <tr>\n",
       "      <th>1<\/th>\n",
       "      <td>117031336<\/td>\n",
       "      <td>Surry Hills<\/td>\n",
       "      <td>89<\/td>\n",
       "    <\/tr>\n",
       "    <tr>\n",
       "      <th>2<\/th>\n",
       "      <td>117031646<\/td>\n",
       "      <td>Ultimo<\/td>\n",
       "      <td>92<\/td>\n",
       "    <\/tr>\n",
       "    <tr>\n",
       "      <th>3<\/th>\n",
       "      <td>121041417<\/td>\n",
       "      <td>North Sydney - Lavender Bay<\/td>\n",
       "      <td>140<\/td>\n",
       "    <\/tr>\n",
       "    <tr>\n",
       "      <th>4<\/th>\n",
       "      <td>117031647<\/td>\n",
       "      <td>Waterloo<\/td>\n",
       "      <td>163<\/td>\n",
       "    <\/tr>\n",
       "    <tr>\n",
       "      <th>...<\/th>\n",
       "      <td>...<\/td>\n",
       "      <td>...<\/td>\n",
       "      <td>...<\/td>\n",
       "    <\/tr>\n",
       "    <tr>\n",
       "      <th>354<\/th>\n",
       "      <td>102021049<\/td>\n",
       "      <td>Jilliby - Yarramalong<\/td>\n",
       "      <td>2250<\/td>\n",
       "    <\/tr>\n",
       "    <tr>\n",
       "      <th>355<\/th>\n",
       "      <td>123031446<\/td>\n",
       "      <td>Douglas Park - Appin<\/td>\n",
       "      <td>2251<\/td>\n",
       "    <\/tr>\n",
       "    <tr>\n",
       "      <th>356<\/th>\n",
       "      <td>102011030<\/td>\n",
       "      <td>Calga - Kulnura<\/td>\n",
       "      <td>2259<\/td>\n",
       "    <\/tr>\n",
       "    <tr>\n",
       "      <th>357<\/th>\n",
       "      <td>123031448<\/td>\n",
       "      <td>The Oaks - Oakdale<\/td>\n",
       "      <td>2261<\/td>\n",
       "    <\/tr>\n",
       "    <tr>\n",
       "      <th>358<\/th>\n",
       "      <td>115031299<\/td>\n",
       "      <td>Bilpin - Colo - St Albans<\/td>\n",
       "      <td>2278<\/td>\n",
       "    <\/tr>\n",
       "  <\/tbody>\n",
       "<\/table>\n",
       "<p>359 rows × 3 columns<\/p>\n",
       "<\/div>"
      ]
     },
     "metadata":{
      
     },
     "output_type":"display_data"
    },
    {
     "data":{
      "text\/plain":[
       "      sa2_code                        sa2_name  score_adv\n",
       "0    117031644  Sydney (North) - Millers Point         38\n",
       "1    117031336                     Surry Hills         89\n",
       "2    117031646                          Ultimo         92\n",
       "3    121041417     North Sydney - Lavender Bay        140\n",
       "4    117031647                        Waterloo        163\n",
       "..         ...                             ...        ...\n",
       "354  102021049           Jilliby - Yarramalong       2250\n",
       "355  123031446            Douglas Park - Appin       2251\n",
       "356  102011030                 Calga - Kulnura       2259\n",
       "357  123031448              The Oaks - Oakdale       2261\n",
       "358  115031299       Bilpin - Colo - St Albans       2278\n",
       "\n",
       "[359 rows x 3 columns]"
      ]
     },
     "metadata":{
      
     },
     "output_type":"display_data"
    }
   ],
   "metadata":{
    "datalore":{
     "node_id":"I5ctT8YqL3KT7e2TomJYmO",
     "type":"CODE",
     "hide_input_from_viewers":false,
     "hide_output_from_viewers":false,
     "report_properties":{
      "rowId":"uHOkAtDAfNupt12kapETrw",
      "relativeY":0
     }
    }
   }
  },
  {
   "cell_type":"code",
   "source":[
    "# Read the files\n",
    "data = pd.read_csv(\"z_score_test.csv\")\n",
    "data['sa2_code'] = data['sa2_code'].astype(str)\n",
    "geo_data = gpd.read_file(\"sa2.geojson\")\n",
    "geo_data['sa2_code'] = geo_data['sa2_code'].astype(str)\n",
    "data = geo_data.merge(data, on='sa2_code')"
   ],
   "execution_count":null,
   "outputs":[
    
   ],
   "metadata":{
    "datalore":{
     "node_id":"Sd92HtDh8si0VQDh56heSj",
     "type":"CODE",
     "hide_input_from_viewers":true,
     "hide_output_from_viewers":true
    }
   }
  },
  {
   "cell_type":"code",
   "source":[
    "# Calculate and print the descriptive statistics\n",
    "desc_stats = data.describe()\n",
    "print(desc_stats)"
   ],
   "execution_count":null,
   "outputs":[
    
   ],
   "metadata":{
    "datalore":{
     "node_id":"YfwHLGqmBPFu2I8SmVAWQo",
     "type":"CODE",
     "hide_input_from_viewers":true,
     "hide_output_from_viewers":true
    }
   }
  },
  {
   "cell_type":"code",
   "source":[
    "# Define matplotlib style\n",
    "plt.style.use('rose-pine-dawn.mplstyle')"
   ],
   "execution_count":null,
   "outputs":[
    
   ],
   "metadata":{
    "datalore":{
     "node_id":"KMv3n6Jt55mpfNULyixGJn",
     "type":"CODE",
     "hide_input_from_viewers":true,
     "hide_output_from_viewers":true
    }
   }
  },
  {
   "cell_type":"code",
   "source":[
    "# Create a histogram showing the overall distribution of scores\n",
    "plt.hist(data['score'], bins='auto', edgecolor='black', alpha=0.75)\n",
    "plt.xlabel('Score')\n",
    "plt.ylabel('Frequency')\n",
    "plt.title('Histogram of Scores')\n",
    "plt.show()"
   ],
   "execution_count":null,
   "outputs":[
    
   ],
   "metadata":{
    "datalore":{
     "node_id":"Ya2nd1yepfRmsSoStW4I71",
     "type":"CODE",
     "hide_input_from_viewers":true,
     "hide_output_from_viewers":true
    }
   }
  },
  {
   "cell_type":"code",
   "source":[
    "# Plot the heatmap of scores\n",
    "fig, ax = plt.subplots()\n",
    "data.plot(column='score', cmap='viridis', legend=True, ax=ax)\n",
    "ax.set_xticks([])\n",
    "ax.set_yticks([])\n",
    "plt.show()"
   ],
   "execution_count":null,
   "outputs":[
    
   ],
   "metadata":{
    "datalore":{
     "node_id":"vFMzFqyEALCQiWks5LKmMp",
     "type":"CODE",
     "hide_input_from_viewers":true,
     "hide_output_from_viewers":true
    }
   }
  },
  {
   "cell_type":"code",
   "source":[
    "# Read the income file\n",
    "incomes_df = pd.read_csv('Income.csv')\n",
    "incomes_df['sa2_code'] = incomes_df['sa2_code'].astype(str)\n",
    "\n",
    "# Merge the dataframes on the sa2_code column\n",
    "merged_df = pd.merge(data, incomes_df, on='sa2_code', how='inner')\n",
    "\n",
    "# Convert the median_income column to float\n",
    "merged_df['median_income'] = merged_df['median_income'].astype(float)\n",
    "\n",
    "# Calculate the correlation coefficient\n",
    "corr_coeff = merged_df['score'].corr(merged_df['median_income'])\n",
    "\n",
    "print(f'Correlation coefficient between score and median_income: {corr_coeff}')"
   ],
   "execution_count":null,
   "outputs":[
    
   ],
   "metadata":{
    "datalore":{
     "node_id":"1qLxRSowc9q9qYmeWsW5it",
     "type":"CODE",
     "hide_input_from_viewers":true,
     "hide_output_from_viewers":true
    }
   }
  },
  {
   "cell_type":"code",
   "source":[
    "# Plot income scatterplot\n",
    "fig, ax = plt.subplots()\n",
    "ax.scatter(merged_df['median_income'], merged_df['score'])\n",
    "ax.set_xlabel('Median Income ($AUD)')\n",
    "ax.set_ylabel('Score')\n",
    "ax.set_title('Score vs Median Income')\n",
    "plt.show()"
   ],
   "execution_count":null,
   "outputs":[
    
   ],
   "metadata":{
    "datalore":{
     "node_id":"eTP88k6MQKeav1IwL5Vqg1",
     "type":"CODE",
     "hide_input_from_viewers":true,
     "hide_output_from_viewers":true
    }
   }
  },
  {
   "cell_type":"code",
   "source":[
    "# Create an R-tree spatial index\n",
    "spatial_index = data.sindex\n",
    "\n",
    "# Find the top-scoring areas\n",
    "top_scoring_areas = data.nlargest(10, 'score')\n",
    "\n",
    "# Find adjacent areas to the top-scoring areas\n",
    "adjacent_areas = set()\n",
    "for _, top_area in top_scoring_areas.iterrows():\n",
    "    possible_neighbors = list(spatial_index.intersection(top_area.geometry.bounds))\n",
    "    for neighbor_index in possible_neighbors:\n",
    "        # Check if the neighboring area's boundary intersects the top-scoring area's boundary\n",
    "        if data.loc[neighbor_index].geometry.touches(top_area.geometry):\n",
    "            adjacent_areas.add(neighbor_index)\n",
    "\n",
    "# Calculate the average score for the adjacent areas\n",
    "adjacent_areas_data = data.loc[list(adjacent_areas)]\n",
    "avg_score_adjacent = adjacent_areas_data['score'].mean()\n",
    "\n",
    "# Calculate the average score for all areas\n",
    "avg_score_all = data['score'].mean()\n",
    "\n",
    "print(f\"Average score for adjacent areas: {avg_score_adjacent}\")\n",
    "print(f\"Average score for all areas: {avg_score_all}\")\n",
    "\n",
    "# Perform an independent two-sample t-test\n",
    "t_statistic, p_value = ttest_ind(adjacent_areas_data['score'], data['score'], equal_var=False)\n",
    "\n",
    "print(f\"T-statistic: {t_statistic}\")\n",
    "print(f\"P-value: {p_value}\")\n",
    "\n",
    "# Set a significance level\n",
    "alpha = 0.05\n",
    "\n",
    "if p_value < alpha:\n",
    "    print(\"The difference in average scores is statistically significant.\")\n",
    "else:\n",
    "    print(\"The difference in average scores is not statistically significant.\")"
   ],
   "execution_count":null,
   "outputs":[
    
   ],
   "metadata":{
    "datalore":{
     "node_id":"fl8YjtVmm2R49AoWbNgQ5y",
     "type":"CODE",
     "hide_input_from_viewers":true,
     "hide_output_from_viewers":true
    }
   }
  },
  {
   "cell_type":"code",
   "source":[
    "# Initialise a folium map centered at the mean of latitude and longitude\n",
    "m = folium.Map(location=[data.geometry.centroid.y.mean(),\n",
    "                         data.geometry.centroid.x.mean()],\n",
    "               zoom_start=10, control_scale=True, tiles='CartoDBPositron')\n",
    "\n",
    "# List of metrics and corresponding names for toggles and legend\n",
    "metrics = [('score', 'Overall Score'),\n",
    "           ('z_retail', 'Retail Score'),\n",
    "           ('z_health', 'Health Score'),\n",
    "           ('z_stops', 'Bus Stop Score'),\n",
    "           ('z_polls', 'Polling Place Score'),\n",
    "           ('z_schools', 'School Score'),\n",
    "           ('z_libraries', 'Library Score'),\n",
    "           ('z_childcare_facilities', 'Childcare Facilities Score')]\n",
    "\n",
    "# Generate a choropleth map for each metric\n",
    "for metric, name in metrics:\n",
    "    choropleth = folium.Choropleth(\n",
    "        geo_data=data.__geo_interface__,\n",
    "        data=data,  # data source\n",
    "        columns=['sa2_code', metric],\n",
    "        key_on='feature.properties.sa2_code',\n",
    "        fill_color='YlGnBu',\n",
    "        fill_opacity=0.7,\n",
    "        line_opacity=0.2,\n",
    "        legend_name=name,\n",
    "        name=name,\n",
    "        show=False\n",
    "    ).add_to(m)\n",
    "\n",
    "    # Highlight the highest and lowest scoring areas\n",
    "    max_score = data[metric].max()\n",
    "    min_score = data[metric].min()\n",
    "    folium.GeoJson(\n",
    "        data[data[metric] == max_score],\n",
    "        style_function=lambda x: {'fillColor': '#000000', 'color': '#ff0000'},\n",
    "        name='Highest Score Areas',\n",
    "    ).add_to(choropleth.geojson)\n",
    "    folium.GeoJson(\n",
    "        data[data[metric] == min_score],\n",
    "        style_function=lambda x: {'fillColor': '#000000', 'color': '#ff0000'},\n",
    "        name='Lowest Score Areas',\n",
    "    ).add_to(choropleth.geojson)\n",
    "\n",
    "    # Add popups\n",
    "    folium.GeoJson(\n",
    "        data,\n",
    "        name='Popups',\n",
    "        tooltip=GeoJsonTooltip(\n",
    "            fields=['sa2_name', 'score', 'z_retail', 'z_health', 'z_stops', 'z_polls', 'z_schools', 'z_libraries', 'z_childcare_facilities'],\n",
    "            aliases=['Area Name', 'Overall Score', 'Retail Score', 'Health Score', 'Bus Stop Score', 'Polling Place Score', 'School Score', 'Library Score', 'Childcare Facilities Score'],\n",
    "            localize=True\n",
    "        )\n",
    "    ).add_to(choropleth.geojson)\n",
    "\n",
    "# Add layer control to the map\n",
    "folium.LayerControl(position='bottomleft').add_to(m)\n",
    "\n",
    "# Save the map\n",
    "m.save('chlorpleth.html')"
   ],
   "execution_count":null,
   "outputs":[
    
   ],
   "metadata":{
    "datalore":{
     "node_id":"6xZxQj2sSESsd27q2XFyQa",
     "type":"CODE",
     "hide_input_from_viewers":true,
     "hide_output_from_viewers":true
    }
   }
  },
  {
   "cell_type":"code",
   "source":[
    "# Load the data\n",
    "z_score_df = pd.read_csv(\"z_score_test.csv\")\n",
    "rank_score_df = pd.read_csv(\"rank_score_test.csv\")\n",
    "\n",
    "# Create index columns\n",
    "z_score_df['index_z'] = range(1, len(z_score_df) + 1)\n",
    "rank_score_df['index_adv'] = range(1, len(rank_score_df) + 1)\n",
    "\n",
    "# Merge the two dataframes based on the index columns\n",
    "merged_df = pd.merge(z_score_df, rank_score_df, on=['sa2_code', 'sa2_name'])\n",
    "\n",
    "# Compute Spearman rank correlation\n",
    "correlation, _ = spearmanr(merged_df['index_z'], merged_df['index_adv'])\n",
    "print(f\"The Spearman rank correlation coefficient is: {correlation}\")\n",
    "\n",
    "# Identify outliers\n",
    "merged_df['discrepancy'] = abs(merged_df['index_z'] - merged_df['index_adv'])\n",
    "outliers = merged_df[merged_df['discrepancy'] > 50]\n",
    "\n",
    "# Create scatter plot\n",
    "plt.figure(figsize=(10, 6))\n",
    "plt.scatter(merged_df['index_z'], merged_df['index_adv'], color='gray', label='Data')\n",
    "plt.scatter(outliers['index_z'], outliers['index_adv'], color='orange', label='Outliers')\n",
    "\n",
    "# Annotate outliers\n",
    "for _, row in outliers.iterrows():\n",
    "    plt.annotate(row['sa2_name'], (row['index_z'], row['index_adv']))\n",
    "\n",
    "# Customise the plot\n",
    "plt.xlabel('Z Score Rank')\n",
    "plt.ylabel('Rank Score Rank')\n",
    "plt.title('Comparison of Relative Ranks in Different Scoring Methods')\n",
    "plt.legend().set_visible(False)\n",
    "\n",
    "plt.show()"
   ],
   "execution_count":null,
   "outputs":[
    
   ],
   "metadata":{
    "datalore":{
     "node_id":"o1rDzDBlV8Il0KAEmBQSUQ",
     "type":"CODE",
     "hide_input_from_viewers":true,
     "hide_output_from_viewers":true
    }
   }
  },
  {
   "cell_type":"code",
   "source":[
    "# Compute deviation from the diagonal line y=x\n",
    "merged_df['deviation'] = merged_df['index_adv'] - merged_df['index_z']\n",
    "\n",
    "# Create a deviation-from-baseline plot\n",
    "plt.figure(figsize=(10, 6))\n",
    "plt.plot(merged_df['index_z'], merged_df['deviation'], linestyle='-', marker='o', markersize=4)\n",
    "plt.xlabel('Z Score Rank')\n",
    "plt.ylabel('Deviation from Monotonic, Linear Relationship')\n",
    "plt.axhline(y=0, color='black', linestyle='--')\n",
    "plt.title('Distribution of Deviations From Baseline')\n",
    "\n",
    "plt.show()"
   ],
   "execution_count":null,
   "outputs":[
    
   ],
   "metadata":{
    "datalore":{
     "node_id":"KxzwWOMLZ64cyQSR3V3goD",
     "type":"CODE",
     "hide_input_from_viewers":true,
     "hide_output_from_viewers":true
    }
   }
  },
  {
   "cell_type":"code",
   "source":[
    "# df_for_pca = query(conn, 'select * from metrics')\n",
    "\n",
    "# df_scores = df_for_pca.drop(columns=['sa2_code', 'sa2_name', 'geom', 'area', 'young_people_population', 'total_count']).apply(zscore)\n",
    "\n",
    "# df_sa2 = df_for_pca[['sa2_code', 'sa2_name']]\n",
    "\n",
    "# cols = list(df_scores.columns)\n",
    "\n",
    "# df_scores = df_scores.to_numpy()\n",
    "\n",
    "# pca = PCA(n_components=2)\n",
    "\n",
    "# pca.fit(df_scores)\n",
    "# weights = pca.components_.tolist()\n",
    "\n",
    "# print([x for x in zip(cols, weights[0])])\n",
    "# print([x for x in zip(cols, weights[1])])\n",
    "\n",
    "# # print(pca.transform(df_scores))\n",
    "\n",
    "# dim_reductuon_df = pd.DataFrame(pca.transform(df_scores), columns=['dim1', 'dim2'])\n",
    "\n",
    "# dim_reductuon_df.join(df_sa2)"
   ],
   "execution_count":null,
   "outputs":[
    
   ],
   "metadata":{
    "datalore":{
     "node_id":"pHHs6HbXp9sJUounsKq597",
     "type":"CODE",
     "hide_input_from_viewers":false,
     "hide_output_from_viewers":false,
     "report_properties":{
      "rowId":"93re4oBdSCxY6QIBjPE3lj",
      "relativeY":0
     }
    }
   }
  },
  {
   "cell_type":"code",
   "source":[
    "# conn.close()\n",
    "# db.dispose()"
   ],
   "execution_count":null,
   "outputs":[
    
   ],
   "metadata":{
    "datalore":{
     "node_id":"kzbRdpZu6n1gKNynl7faix",
     "type":"CODE",
     "hide_input_from_viewers":false,
     "hide_output_from_viewers":false,
     "report_properties":{
      "rowId":"JudtqsMdVHpmX9WvOso6Ee",
      "relativeY":0
     }
    }
   }
  }
 ],
 "metadata":{
  "kernelspec":{
   "display_name":"Python",
   "language":"python",
   "name":"python"
  },
  "datalore":{
   "computation_mode":"JUPYTER",
   "package_manager":"pip",
   "base_environment":"default",
   "packages":[
    
   ],
   "report_row_ids":[
    "edqLRfeRJA75f8OpZMHdu1",
    "UiWCw0kmq8GDw9wh4kmQIY",
    "2CLqreU2IdjrAdTYihvRSO",
    "AGE6IvaAJANn8Uxdom13X4",
    "yaPPo8UEOWvOXSMN9bUueo",
    "2zmhifTLDA0Gq9afl21tfd",
    "m1mP9bw9ybtPUB9gVxjlVD",
    "nbZZkpVbwp26xsFn23xl6a",
    "KmPyVPMaaZdbFSqlRu23UO",
    "wizZPmdXxugQENZJJ9ePOE",
    "zaTf6nVlExCPdH7nxLqj8v",
    "Dzg5MruHExVvwE1TnSqAPj",
    "BLPjNshHo38C81yANZymyF",
    "3Qpb7rUt8RbrXZ7CyHRl99",
    "iCO3dU0aCe1exoedHU1Xlw",
    "uHOkAtDAfNupt12kapETrw",
    "93re4oBdSCxY6QIBjPE3lj",
    "JudtqsMdVHpmX9WvOso6Ee"
   ],
   "version":3
  }
 },
 "nbformat":4,
 "nbformat_minor":4
}