{
 "cells": [
  {
   "cell_type": "markdown",
   "metadata": {},
   "source": [
    "# Using Featuretools to analyze medals won at the Olympic Games\n",
    "<p style=\"margin:30px\">\n",
    "    <img width=40% src=\"https://www.featuretools.com/wp-content/uploads/2017/12/FeatureLabs-Logo-Tangerine-800.png\" alt=\"Featuretools\" />\n",
    "</p>\n",
    "\n",
    "In this notebook, we examine a dataset containing all the medals won by each athlete at each Summer Olympic Games. Our goal will be to see what quantities are important in predicting the future number of medals per country. To build a highly accurate machine learning model, it's necessary to extract certain transformations called **features**. Finding the right features is a crucial component of both finding a satisfactory answer and understanding what to do next. The process of **feature engineering** is made simple by [Featuretools](https://featuretools.com).\n",
    "\n",
    "There's an [associated notebook](BaselineSolution.ipynb) which talks about making baselines for this problem by computing the average number of medals a country wins over time. The mean AUC in that notebook is .79, compared to .95 for the model we build here. While that notebook and this one give a brief introduction to Featuretools, all of the calls are explained in depth in the [documentation](docs.featuretools.com).\n",
    "\n"
   ]
  },
  {
   "cell_type": "code",
   "execution_count": 1,
   "metadata": {
    "collapsed": true
   },
   "outputs": [],
   "source": [
    "import numpy as np\n",
    "import pandas as pd\n",
    "import os\n",
    "\n",
    "from sklearn.ensemble import RandomForestClassifier\n",
    "from sklearn.preprocessing import Imputer, RobustScaler\n",
    "from sklearn.pipeline import Pipeline\n",
    "from sklearn.metrics import confusion_matrix\n",
    "\n",
    "import featuretools as ft\n",
    "\n",
    "import utils as utils\n",
    "\n",
    "%matplotlib inline"
   ]
  },
  {
   "cell_type": "markdown",
   "metadata": {},
   "source": [
    "# Step 1: Load data\n",
    "\n",
    "Featuretools stores data in an `EntitySet`. This is an abstraction which us to hold on not only to the data itself, but also to metadata like relationships and column types. In general, creating an entityset can be as easy as calling `entityset_from_csv` inside of Featuretools. We'd like to be a little bit more subtle here, so we'll use a custom `load_entityset` function in [utils.py](utils.py)."
   ]
  },
  {
   "cell_type": "code",
   "execution_count": 2,
   "metadata": {
    "collapsed": true
   },
   "outputs": [],
   "source": [
    "DATA_DIR = os.path.join(os.getcwd(),\"data/olympic_games_data\")\n",
    "es = utils.load_entityset(data_dir=DATA_DIR)\n",
    "\n",
    "# Load a pre-made labels table for supervised learning\n",
    "label_file = os.path.join(DATA_DIR, \"num_medals_by_country_labels.csv\")\n",
    "label_df = pd.read_csv(label_file,\n",
    "                       parse_dates=['Olympics Date'],\n",
    "                       encoding='utf-8',\n",
    "                       usecols=['Number of Medals', 'Olympics Date', 'Country'])\n",
    "label_df.sort_values(['Olympics Date', 'Country'], inplace=True)"
   ]
  },
  {
   "cell_type": "code",
   "execution_count": 3,
   "metadata": {
    "collapsed": true
   },
   "outputs": [],
   "source": [
    "# Make a new label for binary classification\n",
    "dates = label_df['Olympics Date']\n",
    "labels = label_df['Number of Medals']\n",
    "y_binary = (labels >= 10).values"
   ]
  },
  {
   "cell_type": "markdown",
   "metadata": {},
   "source": [
    "## Cutoff times\n",
    "\n",
    "We are going to be generating features and doing predictive modeling on Olympic Games throughout history. We want to see how accurate our model is at each Olympics, but that comes with potential for danger. Since we already know the answer, there's a risk that our **labels** will **leak** into the prediction and make it seem like our model is better than it really is.\n",
    "\n",
    "To circumvent that, we introduce the notion of [cutoff times](https://docs.featuretools.com/automated_feature_engineering/handling_time.html) which tells the software which data it is allowed to use to make a certain prediction. For this dataset, we want to prevent any results from the current Olympics from being used. A `cutoff_time` has an index column and a datetime column indicating the last acceptable date Featuretools can use for a given prediction. Setting cutoff times immediately mitigates the risk of fradulently using results data, changes the number of predictions we make and impacts how Deep Feature Synthesis generates features."
   ]
  },
  {
   "cell_type": "code",
   "execution_count": 4,
   "metadata": {},
   "outputs": [
    {
     "data": {
      "text/html": [
       "<div>\n",
       "<style>\n",
       "    .dataframe thead tr:only-child th {\n",
       "        text-align: right;\n",
       "    }\n",
       "\n",
       "    .dataframe thead th {\n",
       "        text-align: left;\n",
       "    }\n",
       "\n",
       "    .dataframe tbody tr th {\n",
       "        vertical-align: top;\n",
       "    }\n",
       "</style>\n",
       "<table border=\"1\" class=\"dataframe\">\n",
       "  <thead>\n",
       "    <tr style=\"text-align: right;\">\n",
       "      <th></th>\n",
       "      <th>Code</th>\n",
       "      <th>Olympics Date</th>\n",
       "    </tr>\n",
       "  </thead>\n",
       "  <tbody>\n",
       "    <tr>\n",
       "      <th>1060</th>\n",
       "      <td>TUN</td>\n",
       "      <td>2012-06-29</td>\n",
       "    </tr>\n",
       "    <tr>\n",
       "      <th>1038</th>\n",
       "      <td>TUR</td>\n",
       "      <td>2012-06-29</td>\n",
       "    </tr>\n",
       "    <tr>\n",
       "      <th>1035</th>\n",
       "      <td>UKR</td>\n",
       "      <td>2012-06-29</td>\n",
       "    </tr>\n",
       "    <tr>\n",
       "      <th>1021</th>\n",
       "      <td>USA</td>\n",
       "      <td>2012-06-29</td>\n",
       "    </tr>\n",
       "    <tr>\n",
       "      <th>1027</th>\n",
       "      <td>UZB</td>\n",
       "      <td>2012-06-29</td>\n",
       "    </tr>\n",
       "  </tbody>\n",
       "</table>\n",
       "</div>"
      ],
      "text/plain": [
       "     Code Olympics Date\n",
       "1060  TUN    2012-06-29\n",
       "1038  TUR    2012-06-29\n",
       "1035  UKR    2012-06-29\n",
       "1021  USA    2012-06-29\n",
       "1027  UZB    2012-06-29"
      ]
     },
     "execution_count": 4,
     "metadata": {},
     "output_type": "execute_result"
    }
   ],
   "source": [
    "cutoff_times = label_df[['Country', 'Olympics Date']].rename(columns={'Country': 'Code'})\n",
    "cutoff_times.tail()"
   ]
  },
  {
   "cell_type": "markdown",
   "metadata": {},
   "source": [
    "# Step 2: Generate Features Using Deep Feature Synthesis\n",
    "\n",
    "We can specify particular primitives as building blocks to automatically construct features. Featuretools will walk through our EntitySet and apply each primitive as many times as possible using the [Deep Feature Synthesis](https://docs.featuretools.com/automated_feature_engineering/afe.html) (DFS) algorithm. \n",
    "\n",
    "The `max_depth` parameter tells DFS how deep to make each feature which is closely associated to how long the algorithm takes. With `max_depth=3` we create 290 features in about 5 minutes. If you are running this notebook yourself, try changing the max depth or the `agg_primitives` to see how that changes the rest of the results."
   ]
  },
  {
   "cell_type": "code",
   "execution_count": 5,
   "metadata": {},
   "outputs": [
    {
     "name": "stdout",
     "output_type": "stream",
     "text": [
      "Building features: 393it [00:00, 2151.27it/s]\n",
      "Progress: 100%|██████████| 27/27 [05:57<00:00, 26.88s/cutoff time]\n",
      "290 features generated\n"
     ]
    }
   ],
   "source": [
    "from featuretools.primitives import (Sum, Std, Max, Min, Mean,\n",
    "                                     Count, PercentTrue, NUnique, \n",
    "                                     Mode, Trend, Skew)\n",
    "\n",
    "agg_primitives = [Sum, Std, Max, Min, Mean, \n",
    "                  Count, PercentTrue, NUnique, \n",
    "                  Mode, Trend, Skew]\n",
    "\n",
    "feature_matrix, features = ft.dfs(\n",
    "    entityset=es,\n",
    "    target_entity=\"countries\",\n",
    "    trans_primitives=[],\n",
    "    agg_primitives=agg_primitives,\n",
    "    max_depth=3,\n",
    "    cutoff_time=cutoff_times,\n",
    "    verbose=True\n",
    ")\n",
    "\n",
    "print \"{} features generated\".format(len(features))"
   ]
  },
  {
   "cell_type": "code",
   "execution_count": 6,
   "metadata": {},
   "outputs": [
    {
     "data": {
      "text/plain": [
       "[<Feature: MIN(countries_at_olympic_games.olympic_games.COUNT(medals_won))>,\n",
       " <Feature: MAX(countries_at_olympic_games.olympic_games.COUNT(countries_at_olympic_games))>,\n",
       " <Feature: TREND(countries_at_olympic_games.TREND(medals_won.NUM_UNIQUE(medaling_athletes.Athlete), Year), Year)>,\n",
       " <Feature: MIN(countries_at_olympic_games.SUM(medals_won.NUM_UNIQUE(medaling_athletes.Athlete)))>,\n",
       " <Feature: STD(countries_at_olympic_games.olympic_games.COUNT(countries_at_olympic_games))>,\n",
       " <Feature: TREND(countries_at_olympic_games.SKEW(medals_won.COUNT(medaling_athletes)), Year)>,\n",
       " <Feature: STD(countries_at_olympic_games.olympic_games.NUM_UNIQUE(medaling_athletes.Athlete))>,\n",
       " <Feature: TREND(countries_at_olympic_games.olympic_games.NUM_UNIQUE(medals_won.Medal), Year)>,\n",
       " <Feature: TREND(countries_at_olympic_games.NUM_UNIQUE(medals_won.disciplines.Sport), Year)>,\n",
       " <Feature: SUM(countries_at_olympic_games.olympic_games.NUM_UNIQUE(countries_at_olympic_games.Country))>]"
      ]
     },
     "execution_count": 6,
     "metadata": {},
     "output_type": "execute_result"
    }
   ],
   "source": [
    "features[-10:]"
   ]
  },
  {
   "cell_type": "markdown",
   "metadata": {},
   "source": [
    "You can see that we have done more than individually apply functions to particular columns. These features were not only computed at individual cutoff times for each Olympic Games, but they were also stacked and combined across the `countries_at_olympic_games`, `medals_won` and `medaling_athletes` tables from our EntitySet in an exhaustive way. Using the [Deep Feature Synthesis](https://docs.featuretools.com/automated_feature_engineering/afe.html) algorithm is powerful because it greatly increases the likelihood of finding important features while decreasing the workload of the data scientist.\n",
    "\n",
    "## Data Manipulation \n",
    "\n",
    "Machine learning algorithms require all numeric values as input, but Featuretools by default produces some categorical values. One way to transform these values into numbers is to create several binary features that [encode](https://docs.featuretools.com/generated/featuretools.synthesis.encode_features.html) whether the feature is equal to each particular category. The number of categories is capped at 10 by default. \n",
    " \n",
    "We also use stock algorithms from scikit-learn, such as an imputer that replaces missing values with the mean over that feature and a scaler that makes sure each feature's values vary from 0 to 1. The `RobustScaler` class is more sensitive to outliers than the `StandardScaler`."
   ]
  },
  {
   "cell_type": "code",
   "execution_count": 7,
   "metadata": {},
   "outputs": [
    {
     "data": {
      "text/html": [
       "<div>\n",
       "<style>\n",
       "    .dataframe thead tr:only-child th {\n",
       "        text-align: right;\n",
       "    }\n",
       "\n",
       "    .dataframe thead th {\n",
       "        text-align: left;\n",
       "    }\n",
       "\n",
       "    .dataframe tbody tr th {\n",
       "        vertical-align: top;\n",
       "    }\n",
       "</style>\n",
       "<table border=\"1\" class=\"dataframe\">\n",
       "  <thead>\n",
       "    <tr style=\"text-align: right;\">\n",
       "      <th></th>\n",
       "      <th>Subregion ID</th>\n",
       "      <th>Country = United Kingdom</th>\n",
       "      <th>Country = United States</th>\n",
       "      <th>Country = France</th>\n",
       "      <th>Country = Denmark</th>\n",
       "      <th>Country = Canada</th>\n",
       "      <th>Country = Sweden</th>\n",
       "      <th>Country = Italy</th>\n",
       "      <th>Country = Hungary</th>\n",
       "      <th>Country = Australia</th>\n",
       "      <th>...</th>\n",
       "      <th>MIN(countries_at_olympic_games.olympic_games.COUNT(medals_won))</th>\n",
       "      <th>MAX(countries_at_olympic_games.olympic_games.COUNT(countries_at_olympic_games))</th>\n",
       "      <th>TREND(countries_at_olympic_games.TREND(medals_won.NUM_UNIQUE(medaling_athletes.Athlete), Year), Year)</th>\n",
       "      <th>MIN(countries_at_olympic_games.SUM(medals_won.NUM_UNIQUE(medaling_athletes.Athlete)))</th>\n",
       "      <th>STD(countries_at_olympic_games.olympic_games.COUNT(countries_at_olympic_games))</th>\n",
       "      <th>TREND(countries_at_olympic_games.SKEW(medals_won.COUNT(medaling_athletes)), Year)</th>\n",
       "      <th>STD(countries_at_olympic_games.olympic_games.NUM_UNIQUE(medaling_athletes.Athlete))</th>\n",
       "      <th>TREND(countries_at_olympic_games.olympic_games.NUM_UNIQUE(medals_won.Medal), Year)</th>\n",
       "      <th>TREND(countries_at_olympic_games.NUM_UNIQUE(medals_won.disciplines.Sport), Year)</th>\n",
       "      <th>SUM(countries_at_olympic_games.olympic_games.NUM_UNIQUE(countries_at_olympic_games.Country))</th>\n",
       "    </tr>\n",
       "    <tr>\n",
       "      <th>Code</th>\n",
       "      <th></th>\n",
       "      <th></th>\n",
       "      <th></th>\n",
       "      <th></th>\n",
       "      <th></th>\n",
       "      <th></th>\n",
       "      <th></th>\n",
       "      <th></th>\n",
       "      <th></th>\n",
       "      <th></th>\n",
       "      <th></th>\n",
       "      <th></th>\n",
       "      <th></th>\n",
       "      <th></th>\n",
       "      <th></th>\n",
       "      <th></th>\n",
       "      <th></th>\n",
       "      <th></th>\n",
       "      <th></th>\n",
       "      <th></th>\n",
       "      <th></th>\n",
       "    </tr>\n",
       "  </thead>\n",
       "  <tbody>\n",
       "    <tr>\n",
       "      <th>TUN</th>\n",
       "      <td>NaN</td>\n",
       "      <td>0</td>\n",
       "      <td>0</td>\n",
       "      <td>0</td>\n",
       "      <td>0</td>\n",
       "      <td>0</td>\n",
       "      <td>0</td>\n",
       "      <td>0</td>\n",
       "      <td>0</td>\n",
       "      <td>0</td>\n",
       "      <td>...</td>\n",
       "      <td>414.0</td>\n",
       "      <td>74.0</td>\n",
       "      <td>NaN</td>\n",
       "      <td>1.0</td>\n",
       "      <td>14.071247</td>\n",
       "      <td>0.000000</td>\n",
       "      <td>399.362852</td>\n",
       "      <td>0.0</td>\n",
       "      <td>0.000000</td>\n",
       "      <td>200.0</td>\n",
       "    </tr>\n",
       "    <tr>\n",
       "      <th>TUR</th>\n",
       "      <td>NaN</td>\n",
       "      <td>0</td>\n",
       "      <td>0</td>\n",
       "      <td>0</td>\n",
       "      <td>0</td>\n",
       "      <td>0</td>\n",
       "      <td>0</td>\n",
       "      <td>0</td>\n",
       "      <td>0</td>\n",
       "      <td>0</td>\n",
       "      <td>...</td>\n",
       "      <td>347.0</td>\n",
       "      <td>74.0</td>\n",
       "      <td>0.0</td>\n",
       "      <td>1.0</td>\n",
       "      <td>13.850953</td>\n",
       "      <td>0.000021</td>\n",
       "      <td>431.930056</td>\n",
       "      <td>0.0</td>\n",
       "      <td>0.000127</td>\n",
       "      <td>742.0</td>\n",
       "    </tr>\n",
       "    <tr>\n",
       "      <th>UKR</th>\n",
       "      <td>NaN</td>\n",
       "      <td>0</td>\n",
       "      <td>0</td>\n",
       "      <td>0</td>\n",
       "      <td>0</td>\n",
       "      <td>0</td>\n",
       "      <td>0</td>\n",
       "      <td>0</td>\n",
       "      <td>0</td>\n",
       "      <td>0</td>\n",
       "      <td>...</td>\n",
       "      <td>595.0</td>\n",
       "      <td>74.0</td>\n",
       "      <td>0.0</td>\n",
       "      <td>19.0</td>\n",
       "      <td>3.000000</td>\n",
       "      <td>0.000153</td>\n",
       "      <td>61.802104</td>\n",
       "      <td>0.0</td>\n",
       "      <td>0.001300</td>\n",
       "      <td>284.0</td>\n",
       "    </tr>\n",
       "    <tr>\n",
       "      <th>USA</th>\n",
       "      <td>NaN</td>\n",
       "      <td>0</td>\n",
       "      <td>1</td>\n",
       "      <td>0</td>\n",
       "      <td>0</td>\n",
       "      <td>0</td>\n",
       "      <td>0</td>\n",
       "      <td>0</td>\n",
       "      <td>0</td>\n",
       "      <td>0</td>\n",
       "      <td>...</td>\n",
       "      <td>118.0</td>\n",
       "      <td>74.0</td>\n",
       "      <td>0.0</td>\n",
       "      <td>21.0</td>\n",
       "      <td>17.894983</td>\n",
       "      <td>-0.000011</td>\n",
       "      <td>475.020077</td>\n",
       "      <td>0.0</td>\n",
       "      <td>0.000273</td>\n",
       "      <td>966.0</td>\n",
       "    </tr>\n",
       "    <tr>\n",
       "      <th>UZB</th>\n",
       "      <td>NaN</td>\n",
       "      <td>0</td>\n",
       "      <td>0</td>\n",
       "      <td>0</td>\n",
       "      <td>0</td>\n",
       "      <td>0</td>\n",
       "      <td>0</td>\n",
       "      <td>0</td>\n",
       "      <td>0</td>\n",
       "      <td>0</td>\n",
       "      <td>...</td>\n",
       "      <td>595.0</td>\n",
       "      <td>74.0</td>\n",
       "      <td>0.0</td>\n",
       "      <td>3.0</td>\n",
       "      <td>3.000000</td>\n",
       "      <td>0.000097</td>\n",
       "      <td>61.802104</td>\n",
       "      <td>0.0</td>\n",
       "      <td>0.000137</td>\n",
       "      <td>284.0</td>\n",
       "    </tr>\n",
       "  </tbody>\n",
       "</table>\n",
       "<p>5 rows × 470 columns</p>\n",
       "</div>"
      ],
      "text/plain": [
       "      Subregion ID  Country = United Kingdom  Country = United States  \\\n",
       "Code                                                                    \n",
       "TUN            NaN                         0                        0   \n",
       "TUR            NaN                         0                        0   \n",
       "UKR            NaN                         0                        0   \n",
       "USA            NaN                         0                        1   \n",
       "UZB            NaN                         0                        0   \n",
       "\n",
       "      Country = France  Country = Denmark  Country = Canada  Country = Sweden  \\\n",
       "Code                                                                            \n",
       "TUN                  0                  0                 0                 0   \n",
       "TUR                  0                  0                 0                 0   \n",
       "UKR                  0                  0                 0                 0   \n",
       "USA                  0                  0                 0                 0   \n",
       "UZB                  0                  0                 0                 0   \n",
       "\n",
       "      Country = Italy  Country = Hungary  Country = Australia  \\\n",
       "Code                                                            \n",
       "TUN                 0                  0                    0   \n",
       "TUR                 0                  0                    0   \n",
       "UKR                 0                  0                    0   \n",
       "USA                 0                  0                    0   \n",
       "UZB                 0                  0                    0   \n",
       "\n",
       "                                                  ...                                               \\\n",
       "Code                                              ...                                                \n",
       "TUN                                               ...                                                \n",
       "TUR                                               ...                                                \n",
       "UKR                                               ...                                                \n",
       "USA                                               ...                                                \n",
       "UZB                                               ...                                                \n",
       "\n",
       "      MIN(countries_at_olympic_games.olympic_games.COUNT(medals_won))  \\\n",
       "Code                                                                    \n",
       "TUN                                               414.0                 \n",
       "TUR                                               347.0                 \n",
       "UKR                                               595.0                 \n",
       "USA                                               118.0                 \n",
       "UZB                                               595.0                 \n",
       "\n",
       "      MAX(countries_at_olympic_games.olympic_games.COUNT(countries_at_olympic_games))  \\\n",
       "Code                                                                                    \n",
       "TUN                                                74.0                                 \n",
       "TUR                                                74.0                                 \n",
       "UKR                                                74.0                                 \n",
       "USA                                                74.0                                 \n",
       "UZB                                                74.0                                 \n",
       "\n",
       "      TREND(countries_at_olympic_games.TREND(medals_won.NUM_UNIQUE(medaling_athletes.Athlete), Year), Year)  \\\n",
       "Code                                                                                                          \n",
       "TUN                                                 NaN                                                       \n",
       "TUR                                                 0.0                                                       \n",
       "UKR                                                 0.0                                                       \n",
       "USA                                                 0.0                                                       \n",
       "UZB                                                 0.0                                                       \n",
       "\n",
       "      MIN(countries_at_olympic_games.SUM(medals_won.NUM_UNIQUE(medaling_athletes.Athlete)))  \\\n",
       "Code                                                                                          \n",
       "TUN                                                 1.0                                       \n",
       "TUR                                                 1.0                                       \n",
       "UKR                                                19.0                                       \n",
       "USA                                                21.0                                       \n",
       "UZB                                                 3.0                                       \n",
       "\n",
       "      STD(countries_at_olympic_games.olympic_games.COUNT(countries_at_olympic_games))  \\\n",
       "Code                                                                                    \n",
       "TUN                                           14.071247                                 \n",
       "TUR                                           13.850953                                 \n",
       "UKR                                            3.000000                                 \n",
       "USA                                           17.894983                                 \n",
       "UZB                                            3.000000                                 \n",
       "\n",
       "      TREND(countries_at_olympic_games.SKEW(medals_won.COUNT(medaling_athletes)), Year)  \\\n",
       "Code                                                                                      \n",
       "TUN                                            0.000000                                   \n",
       "TUR                                            0.000021                                   \n",
       "UKR                                            0.000153                                   \n",
       "USA                                           -0.000011                                   \n",
       "UZB                                            0.000097                                   \n",
       "\n",
       "      STD(countries_at_olympic_games.olympic_games.NUM_UNIQUE(medaling_athletes.Athlete))  \\\n",
       "Code                                                                                        \n",
       "TUN                                          399.362852                                     \n",
       "TUR                                          431.930056                                     \n",
       "UKR                                           61.802104                                     \n",
       "USA                                          475.020077                                     \n",
       "UZB                                           61.802104                                     \n",
       "\n",
       "      TREND(countries_at_olympic_games.olympic_games.NUM_UNIQUE(medals_won.Medal), Year)  \\\n",
       "Code                                                                                       \n",
       "TUN                                                 0.0                                    \n",
       "TUR                                                 0.0                                    \n",
       "UKR                                                 0.0                                    \n",
       "USA                                                 0.0                                    \n",
       "UZB                                                 0.0                                    \n",
       "\n",
       "      TREND(countries_at_olympic_games.NUM_UNIQUE(medals_won.disciplines.Sport), Year)  \\\n",
       "Code                                                                                     \n",
       "TUN                                            0.000000                                  \n",
       "TUR                                            0.000127                                  \n",
       "UKR                                            0.001300                                  \n",
       "USA                                            0.000273                                  \n",
       "UZB                                            0.000137                                  \n",
       "\n",
       "      SUM(countries_at_olympic_games.olympic_games.NUM_UNIQUE(countries_at_olympic_games.Country))  \n",
       "Code                                                                                                \n",
       "TUN                                               200.0                                             \n",
       "TUR                                               742.0                                             \n",
       "UKR                                               284.0                                             \n",
       "USA                                               966.0                                             \n",
       "UZB                                               284.0                                             \n",
       "\n",
       "[5 rows x 470 columns]"
      ]
     },
     "execution_count": 7,
     "metadata": {},
     "output_type": "execute_result"
    }
   ],
   "source": [
    "feature_matrix_encoded, features_encoded = ft.encode_features(feature_matrix, features)\n",
    "\n",
    "pipeline_preprocessing = [(\"imputer\",\n",
    "                           Imputer(missing_values='NaN', strategy=\"mean\", axis=0)),\n",
    "                          (\"scaler\", RobustScaler(with_centering=True))]\n",
    "feature_matrix_encoded.tail()"
   ]
  },
  {
   "cell_type": "markdown",
   "metadata": {},
   "source": [
    "# Step 3: Build machine learning models and generate scores"
   ]
  },
  {
   "cell_type": "markdown",
   "metadata": {},
   "source": [
    "## Time-based cross-validation\n",
    "\n",
    "We cross-validate by separating training sets for each Olympics since 1960, using all historical data in the past for each. That step is taken done by `TimeSeriesSplitByDate`. After splitting, we can immediately make predictions using the feature matrix and the labels from above."
   ]
  },
  {
   "cell_type": "code",
   "execution_count": 8,
   "metadata": {},
   "outputs": [
    {
     "data": {
      "text/plain": [
       "'Average AUC score is 0.953 with standard dev 0.021'"
      ]
     },
     "execution_count": 8,
     "metadata": {},
     "output_type": "execute_result"
    }
   ],
   "source": [
    "splitter = utils.TimeSeriesSplitByDate(dates=dates, earliest_date=pd.Timestamp('1/1/1960'))\n",
    "X = feature_matrix_encoded.values\n",
    "\n",
    "rf_clf = RandomForestClassifier(n_estimators=1000, n_jobs=-1)\n",
    "pipeline = Pipeline(pipeline_preprocessing + [('rf_clf', rf_clf)])\n",
    "binary_scores = utils.fit_and_score(X, y_binary, splitter, pipeline, _type='classification')\n",
    "\"Average AUC score is {} with standard dev {}\".format(\n",
    "        round(binary_scores['roc_auc'].mean(), 3),\n",
    "        round(np.std(binary_scores['roc_auc']), 3)\n",
    ")"
   ]
  },
  {
   "cell_type": "markdown",
   "metadata": {},
   "source": [
    "## Analysis\n",
    "\n",
    "By incorporating automated feature engineering to our pipeline, our average score is now .95 as compared to the [baseline](BaselineSolution.ipynb) average score of .79. Our standard deviation is now also half the size as it was previously, with 0.021 as compared to 0.045. This means that our results have become more consistent across years. Let's begin by plotting our AUC score over time. "
   ]
  },
  {
   "cell_type": "code",
   "execution_count": 9,
   "metadata": {},
   "outputs": [
    {
     "data": {
      "text/plain": [
       "<matplotlib.axes._subplots.AxesSubplot at 0x1090f4210>"
      ]
     },
     "execution_count": 9,
     "metadata": {},
     "output_type": "execute_result"
    },
    {
     "data": {
      "image/png": "[encoded data removed]",
      "text/plain": [
       "<matplotlib.figure.Figure at 0x1090f4a50>"
      ]
     },
     "metadata": {},
     "output_type": "display_data"
    }
   ],
   "source": [
    "binary_scores.set_index('Olympics Year')['roc_auc'].plot(title='AUC vs. Olympics Year')"
   ]
  },
  {
   "cell_type": "markdown",
   "metadata": {},
   "source": [
    "For particular years and countries our score is substantially worse. Let's look in detail at scores from 1984 and 2004 to see how many countries we predicted correctly in each binary category. A nice visual representation of that information is a *confusion matrix*."
   ]
  },
  {
   "cell_type": "code",
   "execution_count": 10,
   "metadata": {},
   "outputs": [
    {
     "data": {
      "image/png": "[encoded data removed]",
      "text/plain": [
       "<matplotlib.figure.Figure at 0x1095cbe10>"
      ]
     },
     "metadata": {},
     "output_type": "display_data"
    }
   ],
   "source": [
    "# 1984 = 5th split\n",
    "split, year = 5, '1984'\n",
    "train, test = splitter.split(X, y_binary)[split]\n",
    "pipeline.fit(X[train], y_binary[train])\n",
    "y_pred = pipeline.predict(X[test])\n",
    "cm = confusion_matrix(y_binary[test], y_pred)\n",
    "utils.plot_confusion_matrix(cm, ['Won < 10 Medals', 'Won >= 10 Medals'], title=year)\n"
   ]
  },
  {
   "cell_type": "code",
   "execution_count": 11,
   "metadata": {},
   "outputs": [
    {
     "data": {
      "image/png": "[encoded data removed]",
      "text/plain": [
       "<matplotlib.figure.Figure at 0x102d6e1d0>"
      ]
     },
     "metadata": {},
     "output_type": "display_data"
    }
   ],
   "source": [
    "# 2004 = 10th split\n",
    "split, year = 10, '2004'\n",
    "train, test = splitter.split(X, y_binary)[split]\n",
    "pipeline.fit(X[train], y_binary[train])\n",
    "y_pred = pipeline.predict(X[test])\n",
    "cm = confusion_matrix(y_binary[test], y_pred)\n",
    "utils.plot_confusion_matrix(cm, ['Won < 10 Medals', 'Won >= 10 Medals'], title=year)"
   ]
  },
  {
   "cell_type": "markdown",
   "metadata": {},
   "source": [
    "In 1984, we underestimated how many medals 8 countries scored, while in 2004, we underestimated only 2 countres and overestimated 1. This is likely due to the boycott in 1984 by Soviet Bloc countries, leading to more medals scored their competitors. \n",
    "\n",
    "Problems like this can arise from events occuring that are not represented in your data. For the Olympics, we can track specific rule changes, geopolitical events and widespread use of performance-enhancing drugs for inaccuracies in particular years. A summary can be found on [Wikipedia](https://en.wikipedia.org/wiki/List_of_Olympic_Games_scandals_and_controversies). In particular, we can see \n",
    "1. **Rule changes** - Between 1970 and 1992 the IOC gradually started allowing professional athletes and changing the medaling events\n",
    "2. **Geopolitics** - Both the United States and Russia boycotted various years during the cold war. \n",
    "3. **Performance-enhancing drugs** see [this](https://en.wikipedia.org/wiki/Doping_at_the_Olympic_Games) article\n",
    "\n",
    "## Feature Importances\n",
    "Lastly, we can look at how useful generating deep features was for the score of the model. We'll use the built in `feature_importances_` method from a Random Forest classifier."
   ]
  },
  {
   "cell_type": "code",
   "execution_count": 12,
   "metadata": {
    "collapsed": true
   },
   "outputs": [],
   "source": [
    "# Get feature importances for every year\n",
    "feature_imp = utils.get_feature_importances(pipeline, \n",
    "                                            feature_matrix_encoded, \n",
    "                                            (labels >= 10), splitter)"
   ]
  },
  {
   "cell_type": "code",
   "execution_count": 13,
   "metadata": {},
   "outputs": [
    {
     "data": {
      "text/html": [
       "<div>\n",
       "<style>\n",
       "    .dataframe thead tr:only-child th {\n",
       "        text-align: right;\n",
       "    }\n",
       "\n",
       "    .dataframe thead th {\n",
       "        text-align: left;\n",
       "    }\n",
       "\n",
       "    .dataframe tbody tr th {\n",
       "        vertical-align: top;\n",
       "    }\n",
       "</style>\n",
       "<table border=\"1\" class=\"dataframe\">\n",
       "  <thead>\n",
       "    <tr style=\"text-align: right;\">\n",
       "      <th></th>\n",
       "      <th>Feature</th>\n",
       "      <th>Importance</th>\n",
       "    </tr>\n",
       "  </thead>\n",
       "  <tbody>\n",
       "    <tr>\n",
       "      <th>0</th>\n",
       "      <td>MEAN(countries_at_olympic_games.SKEW(medals_wo...</td>\n",
       "      <td>0.025806</td>\n",
       "    </tr>\n",
       "    <tr>\n",
       "      <th>1</th>\n",
       "      <td>MEAN(countries_at_olympic_games.COUNT(medals_w...</td>\n",
       "      <td>0.022592</td>\n",
       "    </tr>\n",
       "    <tr>\n",
       "      <th>2</th>\n",
       "      <td>MEAN(countries_at_olympic_games.NUM_UNIQUE(med...</td>\n",
       "      <td>0.021360</td>\n",
       "    </tr>\n",
       "    <tr>\n",
       "      <th>3</th>\n",
       "      <td>MEAN(countries_at_olympic_games.SKEW(medals_wo...</td>\n",
       "      <td>0.021305</td>\n",
       "    </tr>\n",
       "    <tr>\n",
       "      <th>4</th>\n",
       "      <td>MEAN(countries_at_olympic_games.COUNT(medals_w...</td>\n",
       "      <td>0.020539</td>\n",
       "    </tr>\n",
       "  </tbody>\n",
       "</table>\n",
       "</div>"
      ],
      "text/plain": [
       "                                             Feature  Importance\n",
       "0  MEAN(countries_at_olympic_games.SKEW(medals_wo...    0.025806\n",
       "1  MEAN(countries_at_olympic_games.COUNT(medals_w...    0.022592\n",
       "2  MEAN(countries_at_olympic_games.NUM_UNIQUE(med...    0.021360\n",
       "3  MEAN(countries_at_olympic_games.SKEW(medals_wo...    0.021305\n",
       "4  MEAN(countries_at_olympic_games.COUNT(medals_w...    0.020539"
      ]
     },
     "metadata": {},
     "output_type": "display_data"
    }
   ],
   "source": [
    "# Show 10 most important features for 1984\n",
    "test_date = pd.Timestamp('6/29/1984')\n",
    "display(feature_imp[test_date].iloc[:5].reset_index(drop=True))"
   ]
  },
  {
   "cell_type": "markdown",
   "metadata": {},
   "source": [
    "In the top five most important we see some features we expected and some that we didn't. In fact, the feature we constructed for our baseline, the average number of medals won by country, is the second most important feature in this model. Our most important feature, the average `SKEW` of the medaling distribution, would have been difficult to find by hand.\n",
    "\n",
    "\n",
    "<p>\n",
    "    <img src=\"https://www.featurelabs.com/img/logo.png\" alt=\"Featuretools\" />\n",
    "</p>\n",
    "\n",
    "Featuretools was created by the developers at [Feature Labs](https://www.featurelabs.com/). If building impactful data science pipelines is important to you or your business, please [get in touch](https://www.featurelabs.com/contact.html)."
   ]
  }
 ],
 "metadata": {
  "kernelspec": {
   "display_name": "Python 2",
   "language": "python",
   "name": "python2"
  },
  "language_info": {
   "codemirror_mode": {
    "name": "ipython",
    "version": 2
   },
   "file_extension": ".py",
   "mimetype": "text/x-python",
   "name": "python",
   "nbconvert_exporter": "python",
   "pygments_lexer": "ipython2",
   "version": "2.7.13"
  }
 },
 "nbformat": 4,
 "nbformat_minor": 2
}
