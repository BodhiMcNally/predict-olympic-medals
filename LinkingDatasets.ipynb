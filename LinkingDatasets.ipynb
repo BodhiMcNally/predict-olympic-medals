{
 "cells": [
  {
   "cell_type": "code",
   "execution_count": 2,
   "metadata": {},
   "outputs": [
    {
     "name": "stdout",
     "output_type": "stream",
     "text": [
      "The autoreload extension is already loaded. To reload it, use:\n",
      "  %reload_ext autoreload\n"
     ]
    }
   ],
   "source": [
    "import pandas as pd\n",
    "from sklearn.preprocessing import Imputer, RobustScaler\n",
    "from sklearn.pipeline import Pipeline\n",
    "from sklearn.ensemble import RandomForestClassifier, RandomForestRegressor\n",
    "from sklearn.metrics import confusion_matrix\n",
    "import featuretools as ft\n",
    "from featuretools import primitives as prims\n",
    "from featuretools.selection.variance_selection import (\n",
    "    select_high_variance_features,\n",
    "    select_percent_null)\n",
    "import os\n",
    "from ml import (bin_labels,\n",
    "                TimeSeriesSplitByDate,\n",
    "                fit_and_score)\n",
    "from utils import (build_baseline_features,\n",
    "                   load_entityset,\n",
    "                   get_feature_importances,\n",
    "                   plot_confusion_matrix)\n",
    "from IPython.display import display\n",
    "%load_ext autoreload\n",
    "%autoreload 2\n",
    "%matplotlib inline"
   ]
  },
  {
   "cell_type": "code",
   "execution_count": 3,
   "metadata": {
    "collapsed": true
   },
   "outputs": [],
   "source": [
    "ROOT_DATA_FOLDER = os.path.expanduser(\"~/olympic_games_data\")"
   ]
  },
  {
   "cell_type": "markdown",
   "metadata": {},
   "source": [
    "# Step 1: Load in data\n",
    "\n",
    "Check out LoadEntityset.ipynb for a walkthrough of how to set up a dataset for use by Featuretools.\n",
    "\n",
    "`EntitySet` is the in-memory data structure Featuretools uses to build and calculate features. It essentially consists of a dictionary of [Pandas DataFrames](https://pandas.pydata.org/pandas-docs/stable/dsintro.html) with associated metadata on how they are linked, what semantic types they contain, and how they vary in time. For an in-depth guide on. For more details and tutorials, please check out the [documentation](https://docs.featuretools.com/loading_data/using_entitysets.html)."
   ]
  },
  {
   "cell_type": "code",
   "execution_count": 4,
   "metadata": {},
   "outputs": [
    {
     "data": {
      "text/plain": [
       "Entityset: Olympic Games\n",
       "  Entities:\n",
       "    disciplines (shape = [67, 3])\n",
       "    countries (shape = [220, 8])\n",
       "    olympic_games (shape = [27, 3])\n",
       "    medals_won (shape = [11532, 6])\n",
       "    sports (shape = [43, 2])\n",
       "    ...And 3 more\n",
       "  Relationships:\n",
       "    medaling_athletes.Athlete -> athletes.Athlete\n",
       "    medals_won.Country Olympic ID -> countries_at_olympic_games.Country Olympic ID\n",
       "    countries_at_olympic_games.Olympic Games ID -> olympic_games.Olympic Games ID\n",
       "    medals_won.Discipline -> disciplines.Discipline\n",
       "    disciplines.Sport -> sports.Sport\n",
       "    ...and 2 more"
      ]
     },
     "execution_count": 4,
     "metadata": {},
     "output_type": "execute_result"
    }
   ],
   "source": [
    "es = load_entityset()\n",
    "es"
   ]
  },
  {
   "cell_type": "code",
   "execution_count": 5,
   "metadata": {},
   "outputs": [
    {
     "name": "stdout",
     "output_type": "stream",
     "text": [
      "Entity: disciplines\n",
      "  Variables:\n",
      "    Discipline (dtype: index)\n",
      "    Sport (dtype: id)\n",
      "    Debut Year (dtype: datetime_time_index)\n",
      "  Shape:\n",
      "    (67, 3)\n",
      "Entity: countries\n",
      "  Variables:\n",
      "    Subregion ID (dtype: numeric)\n",
      "    Least Developed Countries (LDC) (dtype: numeric)\n",
      "    Code (dtype: index)\n",
      "    Small Island Developing States (SIDS) (dtype: numeric)\n",
      "    Country (dtype: categorical)\n",
      "    ...And 3 more\n",
      "  Shape:\n",
      "    (220, 8)\n",
      "Entity: olympic_games\n",
      "  Variables:\n",
      "    City (dtype: categorical)\n",
      "    Olympic Games ID (dtype: index)\n",
      "    Year (dtype: datetime)\n",
      "  Shape:\n",
      "    (27, 3)\n",
      "Entity: medals_won\n",
      "  Variables:\n",
      "    Discipline (dtype: id)\n",
      "    Country Olympic ID (dtype: id)\n",
      "    medal_id (dtype: index)\n",
      "    Year (dtype: datetime_time_index)\n",
      "    Medal (dtype: categorical)\n",
      "    ...And 1 more\n",
      "  Shape:\n",
      "    (11532, 6)\n",
      "Entity: sports\n",
      "  Variables:\n",
      "    Sport (dtype: index)\n",
      "    Debut Year (dtype: datetime_time_index)\n",
      "  Shape:\n",
      "    (43, 2)\n",
      "Entity: countries_at_olympic_games\n",
      "  Variables:\n",
      "    Country Olympic ID (dtype: index)\n",
      "    Year (dtype: datetime_time_index)\n",
      "    Country (dtype: categorical)\n",
      "    Olympic Games ID (dtype: id)\n",
      "    Olympic Games Name (dtype: categorical)\n",
      "  Shape:\n",
      "    (1074, 5)\n",
      "Entity: medaling_athletes\n",
      "  Variables:\n",
      "    Athlete (dtype: id)\n",
      "    medal_id (dtype: id)\n",
      "    Athlete Medal ID (dtype: index)\n",
      "    Year (dtype: datetime_time_index)\n",
      "  Shape:\n",
      "    (31163, 4)\n",
      "Entity: athletes\n",
      "  Variables:\n",
      "    Gender (dtype: categorical)\n",
      "    Athlete (dtype: index)\n",
      "    Year of First Medal (dtype: datetime_time_index)\n",
      "  Shape:\n",
      "    (22759, 3)\n"
     ]
    }
   ],
   "source": [
    "# This data is available from Wikipedia [here](https://en.wikipedia.org/wiki/List_of_participating_nations_at_the_Summer_Olympic_Games#List_of_nations)\n",
    "\n",
    "# I converted the wikitable to a CSV using this online [tool](http://wikitable2csv.ggor.de/)\n",
    "\n",
    "is_competing = Last(Feature(es['countries_at_olympic_games']['Country']), es['countries'])\n",
    "Last(Feature(es['countries_at_olympic_games']['Country']), es['countries'])"
   ]
  }
 ],
 "metadata": {
  "kernelspec": {
   "display_name": "Python 2",
   "language": "python",
   "name": "python2"
  },
  "language_info": {
   "codemirror_mode": {
    "name": "ipython",
    "version": 2
   },
   "file_extension": ".py",
   "mimetype": "text/x-python",
   "name": "python",
   "nbconvert_exporter": "python",
   "pygments_lexer": "ipython2",
   "version": "2.7.13"
  }
 },
 "nbformat": 4,
 "nbformat_minor": 2
}
