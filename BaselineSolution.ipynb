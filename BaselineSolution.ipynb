{
 "cells": [
  {
   "cell_type": "markdown",
   "metadata": {},
   "source": [
    "# Baseline Solution for Predicting Olympic Medal Count\n",
    "<p><c>\n",
    "    <img src=\"images/Olympic-logo.png\" alt=\"Olympic Logo\" width=300/>\n",
    "</c></p>\n",
    "This notebook implements and evaluates a simple baseline predictive model to help us quantify the impact of feature engineering. This notebook is meant as a companion notebook to [FeaturetoolsPredictiveModeling.ipynb](FeaturetoolsPredictiveModeling.ipynb) which explains the concepts of feature engineering and machine learning in more depth. While the solutions here will outperform random guessing, we will see that feature engineering help us achieve significantly better results."
   ]
  },
  {
   "cell_type": "code",
   "execution_count": 1,
   "metadata": {},
   "outputs": [],
   "source": [
    "import pandas as pd\n",
    "import numpy as np\n",
    "import featuretools as ft\n",
    "from collections import defaultdict\n",
    "from sklearn.metrics import roc_auc_score\n",
    "from featuretools.primitives import Count, Mean, NUnique\n",
    "import os\n",
    "import utils as utils\n",
    "%matplotlib inline"
   ]
  },
  {
   "cell_type": "markdown",
   "metadata": {},
   "source": [
    "## Load in data and labels"
   ]
  },
  {
   "cell_type": "code",
   "execution_count": 2,
   "metadata": {},
   "outputs": [
    {
     "name": "stderr",
     "output_type": "stream",
     "text": [
      "/Users/lecrintech/projects/python/demos-featuretools/demo7/predict-olympic-medals/env2.7/lib/python2.7/site-packages/pandas/core/frame.py:6211: FutureWarning: Sorting because non-concatenation axis is not aligned. A future version\n",
      "of pandas will change to not sort by default.\n",
      "\n",
      "To accept the future behavior, pass 'sort=False'.\n",
      "\n",
      "To retain the current behavior and silence the warning, pass 'sort=True'.\n",
      "\n",
      "  sort=sort)\n",
      "/Users/lecrintech/projects/python/demos-featuretools/demo7/predict-olympic-medals/env2.7/lib/python2.7/site-packages/pandas/core/indexing.py:1472: FutureWarning: \n",
      "Passing list-likes to .loc or [] with any missing label will raise\n",
      "KeyError in the future, you can use .reindex() as an alternative.\n",
      "\n",
      "See the documentation here:\n",
      "https://pandas.pydata.org/pandas-docs/stable/indexing.html#deprecate-loc-reindex-listlike\n",
      "  return self._getitem_tuple(key)\n"
     ]
    },
    {
     "data": {
      "text/html": [
       "<div>\n",
       "<style scoped>\n",
       "    .dataframe tbody tr th:only-of-type {\n",
       "        vertical-align: middle;\n",
       "    }\n",
       "\n",
       "    .dataframe tbody tr th {\n",
       "        vertical-align: top;\n",
       "    }\n",
       "\n",
       "    .dataframe thead th {\n",
       "        text-align: right;\n",
       "    }\n",
       "</style>\n",
       "<table border=\"1\" class=\"dataframe\">\n",
       "  <thead>\n",
       "    <tr style=\"text-align: right;\">\n",
       "      <th></th>\n",
       "      <th>Number of Medals</th>\n",
       "      <th>Olympics Date</th>\n",
       "      <th>Country</th>\n",
       "    </tr>\n",
       "  </thead>\n",
       "  <tbody>\n",
       "    <tr>\n",
       "      <th>8</th>\n",
       "      <td>2</td>\n",
       "      <td>1896-06-29 00:00:00</td>\n",
       "      <td>AUS</td>\n",
       "    </tr>\n",
       "    <tr>\n",
       "      <th>9</th>\n",
       "      <td>5</td>\n",
       "      <td>1896-06-29 00:00:00</td>\n",
       "      <td>AUT</td>\n",
       "    </tr>\n",
       "    <tr>\n",
       "      <th>5</th>\n",
       "      <td>6</td>\n",
       "      <td>1896-06-29 00:00:00</td>\n",
       "      <td>DEN</td>\n",
       "    </tr>\n",
       "    <tr>\n",
       "      <th>10</th>\n",
       "      <td>11</td>\n",
       "      <td>1896-06-29 00:00:00</td>\n",
       "      <td>FRA</td>\n",
       "    </tr>\n",
       "    <tr>\n",
       "      <th>4</th>\n",
       "      <td>7</td>\n",
       "      <td>1896-06-29 00:00:00</td>\n",
       "      <td>GBR</td>\n",
       "    </tr>\n",
       "  </tbody>\n",
       "</table>\n",
       "</div>"
      ],
      "text/plain": [
       "    Number of Medals       Olympics Date Country\n",
       "8                  2 1896-06-29 00:00:00     AUS\n",
       "9                  5 1896-06-29 00:00:00     AUT\n",
       "5                  6 1896-06-29 00:00:00     DEN\n",
       "10                11 1896-06-29 00:00:00     FRA\n",
       "4                  7 1896-06-29 00:00:00     GBR"
      ]
     },
     "execution_count": 2,
     "metadata": {},
     "output_type": "execute_result"
    }
   ],
   "source": [
    "DATA_DIR = os.path.join(os.getcwd(), \"data/olympic_games_data\")\n",
    "es = utils.load_entityset(data_dir=DATA_DIR)\n",
    "label_file = os.path.join(DATA_DIR, \"num_medals_by_country_labels.csv\")\n",
    "\n",
    "label_df = pd.read_csv(label_file,\n",
    "                       parse_dates=['Olympics Date'],\n",
    "                       usecols=['Number of Medals', 'Olympics Date', 'Country'],\n",
    "                       encoding='utf-8')\n",
    "\n",
    "label_df.sort_values(['Olympics Date', 'Country'], inplace=True)\n",
    "cutoff_times = label_df[['Country', 'Olympics Date']].rename(\n",
    "                   columns={'Country': 'Code'})\n",
    "label_df.head()"
   ]
  },
  {
   "cell_type": "markdown",
   "metadata": {},
   "source": [
    "## Data Structure\n",
    "\n",
    "\n",
    "    olympic_games\n",
    "      |\n",
    "      |   countries\n",
    "      |       |                  sports\n",
    "    countries_at_olympic_games     |\n",
    "              |               disciplines\n",
    "         medals_won____________/\n",
    "              |                            athletes\n",
    "     medaling_athletes ____________________/\n"
   ]
  },
  {
   "cell_type": "markdown",
   "metadata": {},
   "source": [
    "# Baseline Predict: Mean number of past medals\n",
    "\n",
    "We will calculate the mean number of medals won by a country in the past, and use that as our prediction for the future. This solution does not use any machine learning. \n",
    "\n",
    "To calculate the mean number of medals, we use `Count` to find the number of medals won by a given country at the Olympic Games and then we use `Mean` to find the average. Though we've written a formula for `mean_num_medals` the feature won't actually be computed until we calculate the feature matrix below."
   ]
  },
  {
   "cell_type": "code",
   "execution_count": 3,
   "metadata": {},
   "outputs": [
    {
     "data": {
      "text/plain": [
       "'countries'"
      ]
     },
     "execution_count": 3,
     "metadata": {},
     "output_type": "execute_result"
    }
   ],
   "source": [
    "num_medals = Count(es['medals_won']['medal_id'],\n",
    "                   es['countries_at_olympic_games'])\n",
    "\n",
    "mean_num_medals = Mean(num_medals, es['countries']).rename(\"mean_num_medals\")\n",
    "mean_num_medals.entity.id"
   ]
  },
  {
   "cell_type": "markdown",
   "metadata": {},
   "source": [
    "## Compute features"
   ]
  },
  {
   "cell_type": "code",
   "execution_count": 4,
   "metadata": {},
   "outputs": [
    {
     "name": "stdout",
     "output_type": "stream",
     "text": [
      "Elapsed: 00:03 | Remaining: 00:00 | Progress: 100%|██████████| Calculated: 11/11 chunks\n"
     ]
    },
    {
     "data": {
      "text/html": [
       "<div>\n",
       "<style scoped>\n",
       "    .dataframe tbody tr th:only-of-type {\n",
       "        vertical-align: middle;\n",
       "    }\n",
       "\n",
       "    .dataframe tbody tr th {\n",
       "        vertical-align: top;\n",
       "    }\n",
       "\n",
       "    .dataframe thead th {\n",
       "        text-align: right;\n",
       "    }\n",
       "</style>\n",
       "<table border=\"1\" class=\"dataframe\">\n",
       "  <thead>\n",
       "    <tr style=\"text-align: right;\">\n",
       "      <th></th>\n",
       "      <th></th>\n",
       "      <th>mean_num_medals</th>\n",
       "    </tr>\n",
       "    <tr>\n",
       "      <th>Code</th>\n",
       "      <th>time</th>\n",
       "      <th></th>\n",
       "    </tr>\n",
       "  </thead>\n",
       "  <tbody>\n",
       "    <tr>\n",
       "      <th>TUN</th>\n",
       "      <th>2012-06-29</th>\n",
       "      <td>1.25</td>\n",
       "    </tr>\n",
       "    <tr>\n",
       "      <th>TUR</th>\n",
       "      <th>2012-06-29</th>\n",
       "      <td>5.20</td>\n",
       "    </tr>\n",
       "    <tr>\n",
       "      <th>UKR</th>\n",
       "      <th>2012-06-29</th>\n",
       "      <td>17.00</td>\n",
       "    </tr>\n",
       "    <tr>\n",
       "      <th>USA</th>\n",
       "      <th>2012-06-29</th>\n",
       "      <td>71.20</td>\n",
       "    </tr>\n",
       "    <tr>\n",
       "      <th>UZB</th>\n",
       "      <th>2012-06-29</th>\n",
       "      <td>3.50</td>\n",
       "    </tr>\n",
       "  </tbody>\n",
       "</table>\n",
       "</div>"
      ],
      "text/plain": [
       "                 mean_num_medals\n",
       "Code time                       \n",
       "TUN  2012-06-29             1.25\n",
       "TUR  2012-06-29             5.20\n",
       "UKR  2012-06-29            17.00\n",
       "USA  2012-06-29            71.20\n",
       "UZB  2012-06-29             3.50"
      ]
     },
     "execution_count": 4,
     "metadata": {},
     "output_type": "execute_result"
    }
   ],
   "source": [
    "feature_matrix = ft.calculate_feature_matrix([mean_num_medals],\n",
    "                                             entityset=es,\n",
    "                                             cutoff_time=cutoff_times,\n",
    "                                             cutoff_time_in_index=True,\n",
    "                                             verbose=True)\n",
    "feature_matrix.tail()"
   ]
  },
  {
   "cell_type": "markdown",
   "metadata": {},
   "source": [
    "## How well does this predictor do?"
   ]
  },
  {
   "cell_type": "code",
   "execution_count": 5,
   "metadata": {},
   "outputs": [
    {
     "data": {
      "text/plain": [
       "Code  time               \n",
       "AUS   1896-06-29 00:00:00     0.0\n",
       "AUT   1896-06-29 00:00:00     0.0\n",
       "DEN   1896-06-29 00:00:00     0.0\n",
       "FRA   1896-06-29 00:00:00     0.0\n",
       "GBR   1896-06-29 00:00:00     0.0\n",
       "GER   1896-06-29 00:00:00     0.0\n",
       "GRE   1896-06-29 00:00:00     0.0\n",
       "HUN   1896-06-29 00:00:00     0.0\n",
       "SUI   1896-06-29 00:00:00     0.0\n",
       "USA   1896-06-29 00:00:00     0.0\n",
       "ZZX   1896-06-29 00:00:00     0.0\n",
       "AUS   1900-06-29              2.0\n",
       "AUT   1900-06-29              5.0\n",
       "BEL   1900-06-29              7.4\n",
       "BOH   1900-06-29              7.4\n",
       "CAN   1900-06-29              7.4\n",
       "CUB   1900-06-29              7.4\n",
       "DEN   1900-06-29              6.0\n",
       "ESP   1900-06-29              7.4\n",
       "FRA   1900-06-29             11.0\n",
       "Name: mean_num_medals, dtype: float64"
      ]
     },
     "execution_count": 5,
     "metadata": {},
     "output_type": "execute_result"
    }
   ],
   "source": [
    "# Countries that didn't take part in the previous Olympics have default nan values in the dataframe\n",
    "# Set them to the mean number of medals for that year\n",
    "predictions = feature_matrix.copy()\n",
    "null_predictions = predictions['mean_num_medals'].isnull()\n",
    "means = (predictions.groupby(level='time')['mean_num_medals'].mean().to_frame())\n",
    "predictions[null_predictions] = (predictions[null_predictions].drop(['mean_num_medals'], axis=1).join(means))\n",
    "\n",
    "# Fill the 1896 olympics with 0 since we have no data to go off of\n",
    "predictions.fillna(0, inplace=True)\n",
    "predictions = predictions['mean_num_medals']\n",
    "predictions.head(20)"
   ]
  },
  {
   "cell_type": "code",
   "execution_count": 6,
   "metadata": {},
   "outputs": [],
   "source": [
    "y = label_df['Number of Medals'].values\n",
    "y_binary = y >= 10"
   ]
  },
  {
   "cell_type": "markdown",
   "metadata": {},
   "source": [
    "## Time-based cross-validation"
   ]
  },
  {
   "cell_type": "code",
   "execution_count": 7,
   "metadata": {},
   "outputs": [
    {
     "name": "stderr",
     "output_type": "stream",
     "text": [
      "utils.py:478: FutureWarning: Sorting because non-concatenation axis is not aligned. A future version\n",
      "of pandas will change to not sort by default.\n",
      "\n",
      "To accept the future behavior, pass 'sort=False'.\n",
      "\n",
      "To retain the current behavior and silence the warning, pass 'sort=True'.\n",
      "\n",
      "  date_index = pd.concat([early_date_index, date_index])\n"
     ]
    },
    {
     "data": {
      "text/plain": [
       "'Average AUC score is 0.794 with standard dev 0.045'"
      ]
     },
     "execution_count": 7,
     "metadata": {},
     "output_type": "execute_result"
    }
   ],
   "source": [
    "splitter = utils.TimeSeriesSplitByDate(dates=label_df['Olympics Date'],\n",
    "                                       earliest_date=pd.Timestamp('1/1/1960'))\n",
    "\n",
    "X = predictions.values\n",
    "binary_X = (predictions.values >= 10).astype(int)\n",
    "\n",
    "scores_over_time = defaultdict(list)\n",
    "for _, test_i in splitter.split(y=y_binary):\n",
    "    predicted_binary = binary_X[test_i]\n",
    "    actual_binary = y_binary[test_i]\n",
    "    sfunc = roc_auc_score\n",
    "    scores_over_time['roc'].append(sfunc(actual_binary, predicted_binary))\n",
    "    \n",
    "\"Average AUC score is {} with standard dev {}\".format(\n",
    "        round(np.mean(scores_over_time['roc']), 3),\n",
    "        round(np.std(scores_over_time['roc']), 3)\n",
    ")"
   ]
  },
  {
   "cell_type": "code",
   "execution_count": 8,
   "metadata": {},
   "outputs": [
    {
     "data": {
      "text/plain": [
       "<matplotlib.axes._subplots.AxesSubplot at 0x1198d9e90>"
      ]
     },
     "execution_count": 8,
     "metadata": {},
     "output_type": "execute_result"
    },
    {
     "data": {
      "image/png": "[encoded data removed]",
      "text/plain": [
       "<Figure size 432x288 with 1 Axes>"
      ]
     },
     "metadata": {
      "needs_background": "light"
     },
     "output_type": "display_data"
    }
   ],
   "source": [
    "dates = splitter.dates.drop_duplicates()\n",
    "dates = dates[dates['Olympics Date'] >= pd.Timestamp('1/1/1960')][:-1]['Olympics Date']\n",
    "pd.Series(scores_over_time['roc'], index=dates).plot()"
   ]
  },
  {
   "cell_type": "markdown",
   "metadata": {},
   "source": [
    "## Analysis\n",
    "\n",
    "Our AUC of .79 (out of 1.0) is already better than randomly guessing. However, we can improve this score to .95 by performing feature engineering and applying machine learning, which we will see in the [Featuretools Predictive Modeling](PredictOlympicMedals.ipynb) notebook.\n",
    "\n",
    "Also, looking at the graph of scores over time, it seems our average gets better over time, albeit with large spikes for certain years. That trend will also continue into the results section of the other notebook."
   ]
  },
  {
   "cell_type": "markdown",
   "metadata": {},
   "source": [
    "<p>\n",
    "    <img src=\"https://www.featurelabs.com/wp-content/uploads/2017/12/logo.png\" alt=\"Featuretools\" />\n",
    "</p>\n",
    "\n",
    "Featuretools was created by the developers at [Feature Labs](https://www.featurelabs.com/). If building impactful data science pipelines is important to you or your business, please [get in touch](https://www.featurelabs.com/contact/)."
   ]
  }
 ],
 "metadata": {
  "kernelspec": {
   "display_name": "Python 3",
   "language": "python",
   "name": "python3"
  },
  "language_info": {
   "codemirror_mode": {
    "name": "ipython",
    "version": 3
   },
   "file_extension": ".py",
   "mimetype": "text/x-python",
   "name": "python",
   "nbconvert_exporter": "python",
   "pygments_lexer": "ipython3",
   "version": "3.7.2"
  }
 },
 "nbformat": 4,
 "nbformat_minor": 2
}
